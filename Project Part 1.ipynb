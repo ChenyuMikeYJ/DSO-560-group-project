{
 "cells": [
  {
   "cell_type": "markdown",
   "metadata": {
    "toc": true
   },
   "source": [
    "<h1>Table of Contents<span class=\"tocSkip\"></span></h1>\n",
    "<div class=\"toc\"><ul class=\"toc-item\"><li><span><a href=\"#Import-Packages-and-Data\" data-toc-modified-id=\"Import-Packages-and-Data-1\"><span class=\"toc-item-num\">1&nbsp;&nbsp;</span>Import Packages and Data</a></span><ul class=\"toc-item\"><li><span><a href=\"#Data-Preprocessing\" data-toc-modified-id=\"Data-Preprocessing-1.1\"><span class=\"toc-item-num\">1.1&nbsp;&nbsp;</span>Data Preprocessing</a></span></li><li><span><a href=\"#Feature-Engineering\" data-toc-modified-id=\"Feature-Engineering-1.2\"><span class=\"toc-item-num\">1.2&nbsp;&nbsp;</span>Feature Engineering</a></span></li></ul></li><li><span><a href=\"#Embeddings\" data-toc-modified-id=\"Embeddings-2\"><span class=\"toc-item-num\">2&nbsp;&nbsp;</span>Embeddings</a></span><ul class=\"toc-item\"><li><span><a href=\"#Get-Max-Length-of-Tokens-and-Integer-Encode-the-Documents\" data-toc-modified-id=\"Get-Max-Length-of-Tokens-and-Integer-Encode-the-Documents-2.1\"><span class=\"toc-item-num\">2.1&nbsp;&nbsp;</span>Get Max Length of Tokens and Integer Encode the Documents</a></span></li><li><span><a href=\"#Pad-Documents-to-Max-Length\" data-toc-modified-id=\"Pad-Documents-to-Max-Length-2.2\"><span class=\"toc-item-num\">2.2&nbsp;&nbsp;</span>Pad Documents to Max Length</a></span></li><li><span><a href=\"#Load-in-GloVe-Vectors\" data-toc-modified-id=\"Load-in-GloVe-Vectors-2.3\"><span class=\"toc-item-num\">2.3&nbsp;&nbsp;</span>Load in GloVe Vectors</a></span></li><li><span><a href=\"#Load-in-Embeddings\" data-toc-modified-id=\"Load-in-Embeddings-2.4\"><span class=\"toc-item-num\">2.4&nbsp;&nbsp;</span>Load in Embeddings</a></span></li></ul></li><li><span><a href=\"#Modeling\" data-toc-modified-id=\"Modeling-3\"><span class=\"toc-item-num\">3&nbsp;&nbsp;</span>Modeling</a></span><ul class=\"toc-item\"><li><span><a href=\"#Define-Models\" data-toc-modified-id=\"Define-Models-3.1\"><span class=\"toc-item-num\">3.1&nbsp;&nbsp;</span>Define Models</a></span></li><li><span><a href=\"#LSTM-Model-1\" data-toc-modified-id=\"LSTM-Model-1-3.2\"><span class=\"toc-item-num\">3.2&nbsp;&nbsp;</span>LSTM Model 1</a></span><ul class=\"toc-item\"><li><span><a href=\"#Model-Fitting-and-Evaluation\" data-toc-modified-id=\"Model-Fitting-and-Evaluation-3.2.1\"><span class=\"toc-item-num\">3.2.1&nbsp;&nbsp;</span>Model Fitting and Evaluation</a></span></li></ul></li><li><span><a href=\"#LSTM-Model-2\" data-toc-modified-id=\"LSTM-Model-2-3.3\"><span class=\"toc-item-num\">3.3&nbsp;&nbsp;</span>LSTM Model 2</a></span><ul class=\"toc-item\"><li><span><a href=\"#Model2-Fitting-and-Evaluation\" data-toc-modified-id=\"Model2-Fitting-and-Evaluation-3.3.1\"><span class=\"toc-item-num\">3.3.1&nbsp;&nbsp;</span>Model2 Fitting and Evaluation</a></span></li></ul></li><li><span><a href=\"#RNN-Model\" data-toc-modified-id=\"RNN-Model-3.4\"><span class=\"toc-item-num\">3.4&nbsp;&nbsp;</span>RNN Model</a></span></li></ul></li><li><span><a href=\"#The-first-LSTM-model-has-0.90-accuracy,-the-second-LSTM-model-has-0.35-accuracy,-and-the-RNN-model-has-0.79-accuracy.-Based-on-the-performance-of-the-three-models,-we-decdided-the-first-LSTM-model-as-our-final-model.-Since-it-has-the-highest-accuracy\" data-toc-modified-id=\"The-first-LSTM-model-has-0.90-accuracy,-the-second-LSTM-model-has-0.35-accuracy,-and-the-RNN-model-has-0.79-accuracy.-Based-on-the-performance-of-the-three-models,-we-decdided-the-first-LSTM-model-as-our-final-model.-Since-it-has-the-highest-accuracy-4\"><span class=\"toc-item-num\">4&nbsp;&nbsp;</span>The first LSTM model has 0.90 accuracy, the second LSTM model has 0.35 accuracy, and the RNN model has 0.79 accuracy. Based on the performance of the three models, we decdided the first LSTM model as our final model. Since it has the highest accuracy</a></span></li></ul></div>"
   ]
  },
  {
   "cell_type": "markdown",
   "metadata": {},
   "source": [
    "## Import Packages and Data"
   ]
  },
  {
   "cell_type": "code",
   "execution_count": 1,
   "metadata": {
    "ExecuteTime": {
     "end_time": "2021-05-10T11:14:51.158310Z",
     "start_time": "2021-05-10T11:14:51.140380Z"
    }
   },
   "outputs": [],
   "source": [
    "import pandas as pd\n",
    "import warnings\n",
    "import string\n",
    "import re\n",
    "import nltk\n",
    "from nltk.stem import WordNetLemmatizer\n",
    "from keras.preprocessing.text import Tokenizer\n",
    "from keras.preprocessing.text import one_hot\n",
    "from keras.preprocessing.sequence import pad_sequences\n",
    "from imblearn.combine import SMOTETomek\n",
    "from sklearn.model_selection import train_test_split\n",
    "from numpy import asarray\n",
    "from numpy import zeros\n",
    "from keras.utils import to_categorical\n",
    "from sklearn.preprocessing import LabelEncoder\n",
    "from keras.layers.recurrent import SimpleRNN, LSTM\n",
    "from keras.layers import Flatten, Masking\n",
    "from keras.models import Sequential\n",
    "from keras.layers import Dense\n",
    "from keras.layers import Flatten\n",
    "from keras.layers import Embedding\n",
    "from nltk.tokenize import word_tokenize\n",
    "from nltk.corpus import stopwords\n",
    "nltk_stopwords = set(stopwords.words('english'))\n",
    "warnings.filterwarnings('ignore')"
   ]
  },
  {
   "cell_type": "code",
   "execution_count": 2,
   "metadata": {
    "ExecuteTime": {
     "end_time": "2021-05-11T04:56:27.475155Z",
     "start_time": "2021-05-11T04:56:08.814296Z"
    }
   },
   "outputs": [
    {
     "data": {
      "text/html": [
       "<div>\n",
       "<style scoped>\n",
       "    .dataframe tbody tr th:only-of-type {\n",
       "        vertical-align: middle;\n",
       "    }\n",
       "\n",
       "    .dataframe tbody tr th {\n",
       "        vertical-align: top;\n",
       "    }\n",
       "\n",
       "    .dataframe thead th {\n",
       "        text-align: right;\n",
       "    }\n",
       "</style>\n",
       "<table border=\"1\" class=\"dataframe\">\n",
       "  <thead>\n",
       "    <tr style=\"text-align: right;\">\n",
       "      <th></th>\n",
       "      <th>product_id</th>\n",
       "      <th>brand</th>\n",
       "      <th>brand_category</th>\n",
       "      <th>name</th>\n",
       "      <th>details</th>\n",
       "      <th>created_at</th>\n",
       "      <th>brand_canonical_url</th>\n",
       "      <th>description</th>\n",
       "      <th>brand_description</th>\n",
       "      <th>brand_name</th>\n",
       "      <th>product_active</th>\n",
       "    </tr>\n",
       "  </thead>\n",
       "  <tbody>\n",
       "    <tr>\n",
       "      <th>0</th>\n",
       "      <td>01EX0PN4J9WRNZH5F93YEX6QAF</td>\n",
       "      <td>Two</td>\n",
       "      <td>Unknown</td>\n",
       "      <td>Khadi Stripe Shirt-our signature shirt</td>\n",
       "      <td>NaN</td>\n",
       "      <td>2021-01-27 01:17:19.305 UTC</td>\n",
       "      <td>https://two-nyc.myshopify.com/products/white-k...</td>\n",
       "      <td>Our signature khadi shirt\\navailable in black ...</td>\n",
       "      <td>Our signature khadi shirt\\n\\navailable in blac...</td>\n",
       "      <td>Khadi Stripe Shirt-our signature shirt</td>\n",
       "      <td>True</td>\n",
       "    </tr>\n",
       "  </tbody>\n",
       "</table>\n",
       "</div>"
      ],
      "text/plain": [
       "                   product_id brand brand_category  \\\n",
       "0  01EX0PN4J9WRNZH5F93YEX6QAF   Two        Unknown   \n",
       "\n",
       "                                     name details  \\\n",
       "0  Khadi Stripe Shirt-our signature shirt     NaN   \n",
       "\n",
       "                    created_at  \\\n",
       "0  2021-01-27 01:17:19.305 UTC   \n",
       "\n",
       "                                 brand_canonical_url  \\\n",
       "0  https://two-nyc.myshopify.com/products/white-k...   \n",
       "\n",
       "                                         description  \\\n",
       "0  Our signature khadi shirt\\navailable in black ...   \n",
       "\n",
       "                                   brand_description  \\\n",
       "0  Our signature khadi shirt\\n\\navailable in blac...   \n",
       "\n",
       "                               brand_name  product_active  \n",
       "0  Khadi Stripe Shirt-our signature shirt            True  "
      ]
     },
     "execution_count": 2,
     "metadata": {},
     "output_type": "execute_result"
    }
   ],
   "source": [
    "df = pd.read_excel('Behold+product+data+04262021.xlsx')\n",
    "df.head(1)"
   ]
  },
  {
   "cell_type": "code",
   "execution_count": 3,
   "metadata": {
    "ExecuteTime": {
     "end_time": "2021-05-11T05:08:35.193442Z",
     "start_time": "2021-05-11T05:08:35.163551Z"
    }
   },
   "outputs": [],
   "source": [
    "df = df[['product_id','brand','brand_category','name','description','product_active','details']]"
   ]
  },
  {
   "cell_type": "markdown",
   "metadata": {},
   "source": [
    "\n",
    "**We will leave out created_at and brand_canonical_url columns in this project. Since description contains the same text as in brand_description, and name contains the same text as in brand_name, we will only use description and name in this case. Also around 85% of the details column are missing values, and the text contained in this columns are highly specific to each product, so we will also leave this column on in the model building process.**\n"
   ]
  },
  {
   "cell_type": "code",
   "execution_count": 4,
   "metadata": {
    "ExecuteTime": {
     "end_time": "2021-05-11T05:18:27.508462Z",
     "start_time": "2021-05-11T05:18:27.494508Z"
    },
    "scrolled": true
   },
   "outputs": [
    {
     "data": {
      "text/html": [
       "<div>\n",
       "<style scoped>\n",
       "    .dataframe tbody tr th:only-of-type {\n",
       "        vertical-align: middle;\n",
       "    }\n",
       "\n",
       "    .dataframe tbody tr th {\n",
       "        vertical-align: top;\n",
       "    }\n",
       "\n",
       "    .dataframe thead th {\n",
       "        text-align: right;\n",
       "    }\n",
       "</style>\n",
       "<table border=\"1\" class=\"dataframe\">\n",
       "  <thead>\n",
       "    <tr style=\"text-align: right;\">\n",
       "      <th></th>\n",
       "      <th>product_id</th>\n",
       "      <th>brand</th>\n",
       "      <th>brand_category</th>\n",
       "      <th>name</th>\n",
       "      <th>description</th>\n",
       "      <th>product_active</th>\n",
       "      <th>details</th>\n",
       "    </tr>\n",
       "  </thead>\n",
       "  <tbody>\n",
       "    <tr>\n",
       "      <th>0</th>\n",
       "      <td>01EX0PN4J9WRNZH5F93YEX6QAF</td>\n",
       "      <td>Two</td>\n",
       "      <td>Unknown</td>\n",
       "      <td>Khadi Stripe Shirt-our signature shirt</td>\n",
       "      <td>Our signature khadi shirt\\navailable in black ...</td>\n",
       "      <td>True</td>\n",
       "      <td>NaN</td>\n",
       "    </tr>\n",
       "    <tr>\n",
       "      <th>1</th>\n",
       "      <td>01F0C4SKZV6YXS3265JMC39NXW</td>\n",
       "      <td>Collina Strada</td>\n",
       "      <td>Unknown</td>\n",
       "      <td>RUFFLE MARKET DRESS LOOPY PINK SISTINE TOMATO</td>\n",
       "      <td>Mid-length dress with ruffles and adjustable s...</td>\n",
       "      <td>True</td>\n",
       "      <td>NaN</td>\n",
       "    </tr>\n",
       "    <tr>\n",
       "      <th>2</th>\n",
       "      <td>01EY4Y1BW8VZW51BWG5VZY82XW</td>\n",
       "      <td>Cariuma</td>\n",
       "      <td>Unknown</td>\n",
       "      <td>IBI Slip On Raw Red Knit Sneaker Women</td>\n",
       "      <td>IBI Slip On Raw Red Knit Sneaker Women</td>\n",
       "      <td>False</td>\n",
       "      <td>NaN</td>\n",
       "    </tr>\n",
       "    <tr>\n",
       "      <th>3</th>\n",
       "      <td>01EY50E27A0P5V6KCW01XPDB43</td>\n",
       "      <td>Cariuma</td>\n",
       "      <td>Unknown</td>\n",
       "      <td>IBI Slip On Black Knit Sneaker Women</td>\n",
       "      <td>IBI Slip On Black Knit Sneaker Women</td>\n",
       "      <td>False</td>\n",
       "      <td>NaN</td>\n",
       "    </tr>\n",
       "    <tr>\n",
       "      <th>4</th>\n",
       "      <td>01EY6DWHC2W5HPNEGXKEJ4A1CX</td>\n",
       "      <td>Cariuma</td>\n",
       "      <td>Unknown</td>\n",
       "      <td>CATIBA PRO Skate Black Suede and Canvas Contra...</td>\n",
       "      <td>NaN</td>\n",
       "      <td>False</td>\n",
       "      <td>NaN</td>\n",
       "    </tr>\n",
       "  </tbody>\n",
       "</table>\n",
       "</div>"
      ],
      "text/plain": [
       "                   product_id           brand brand_category  \\\n",
       "0  01EX0PN4J9WRNZH5F93YEX6QAF             Two        Unknown   \n",
       "1  01F0C4SKZV6YXS3265JMC39NXW  Collina Strada        Unknown   \n",
       "2  01EY4Y1BW8VZW51BWG5VZY82XW         Cariuma        Unknown   \n",
       "3  01EY50E27A0P5V6KCW01XPDB43         Cariuma        Unknown   \n",
       "4  01EY6DWHC2W5HPNEGXKEJ4A1CX         Cariuma        Unknown   \n",
       "\n",
       "                                                name  \\\n",
       "0             Khadi Stripe Shirt-our signature shirt   \n",
       "1      RUFFLE MARKET DRESS LOOPY PINK SISTINE TOMATO   \n",
       "2             IBI Slip On Raw Red Knit Sneaker Women   \n",
       "3               IBI Slip On Black Knit Sneaker Women   \n",
       "4  CATIBA PRO Skate Black Suede and Canvas Contra...   \n",
       "\n",
       "                                         description  product_active details  \n",
       "0  Our signature khadi shirt\\navailable in black ...            True     NaN  \n",
       "1  Mid-length dress with ruffles and adjustable s...            True     NaN  \n",
       "2             IBI Slip On Raw Red Knit Sneaker Women           False     NaN  \n",
       "3               IBI Slip On Black Knit Sneaker Women           False     NaN  \n",
       "4                                                NaN           False     NaN  "
      ]
     },
     "execution_count": 4,
     "metadata": {},
     "output_type": "execute_result"
    }
   ],
   "source": [
    "df.head()"
   ]
  },
  {
   "cell_type": "code",
   "execution_count": 5,
   "metadata": {
    "ExecuteTime": {
     "end_time": "2021-05-11T05:27:26.954335Z",
     "start_time": "2021-05-11T05:27:26.910482Z"
    }
   },
   "outputs": [
    {
     "name": "stdout",
     "output_type": "stream",
     "text": [
      "<class 'pandas.core.frame.DataFrame'>\n",
      "RangeIndex: 61355 entries, 0 to 61354\n",
      "Data columns (total 7 columns):\n",
      " #   Column          Non-Null Count  Dtype \n",
      "---  ------          --------------  ----- \n",
      " 0   product_id      61355 non-null  object\n",
      " 1   brand           61355 non-null  object\n",
      " 2   brand_category  60896 non-null  object\n",
      " 3   name            61354 non-null  object\n",
      " 4   description     51238 non-null  object\n",
      " 5   product_active  61355 non-null  bool  \n",
      " 6   details         9200 non-null   object\n",
      "dtypes: bool(1), object(6)\n",
      "memory usage: 2.9+ MB\n"
     ]
    }
   ],
   "source": [
    "df.info()"
   ]
  },
  {
   "cell_type": "markdown",
   "metadata": {},
   "source": [
    "### Data Preprocessing"
   ]
  },
  {
   "cell_type": "markdown",
   "metadata": {},
   "source": [
    "**In preprocessing, we first converted all the text to lower case, and we removed punctuations, new line characters, common stopwords in English, words that contain only one letter, and more than one consecutive spaces. We also fill up the missing values with 'Unknown' tokens. Lastly, we performed lemmatization to group the words that share simialr meaning.**"
   ]
  },
  {
   "cell_type": "code",
   "execution_count": 6,
   "metadata": {
    "ExecuteTime": {
     "end_time": "2021-05-11T05:36:18.346994Z",
     "start_time": "2021-05-11T05:36:18.098788Z"
    }
   },
   "outputs": [],
   "source": [
    "columns = ['name', 'description','details']\n",
    "\n",
    "# change text to lower case\n",
    "for col in columns:\n",
    "    df[col] = df[col].str.lower()"
   ]
  },
  {
   "cell_type": "code",
   "execution_count": 7,
   "metadata": {
    "ExecuteTime": {
     "end_time": "2021-05-11T05:45:06.898131Z",
     "start_time": "2021-05-11T05:45:06.805336Z"
    }
   },
   "outputs": [],
   "source": [
    "df['description'] = df['description'].str.replace(\"\\n\", \" \")"
   ]
  },
  {
   "cell_type": "code",
   "execution_count": 8,
   "metadata": {
    "ExecuteTime": {
     "end_time": "2021-05-11T05:54:03.653567Z",
     "start_time": "2021-05-11T05:54:03.624662Z"
    }
   },
   "outputs": [],
   "source": [
    "df['details']=df['details'].str.replace(\"\\n\", \" \")"
   ]
  },
  {
   "cell_type": "code",
   "execution_count": 9,
   "metadata": {
    "ExecuteTime": {
     "end_time": "2021-05-11T06:02:54.634319Z",
     "start_time": "2021-05-11T06:02:54.588477Z"
    }
   },
   "outputs": [],
   "source": [
    "#replace null values with UNKNOWN_TOKEN\n",
    "df['brand_category'] = df['brand_category'].fillna('Unknown')\n",
    "df['name'] = df['name'].fillna('Unknown')\n",
    "df['description'] = df['description'].fillna('Unknown')\n",
    "df['details']=df['details'].fillna('Unknown')"
   ]
  },
  {
   "cell_type": "code",
   "execution_count": 10,
   "metadata": {
    "ExecuteTime": {
     "end_time": "2021-05-11T06:11:44.843921Z",
     "start_time": "2021-05-11T06:11:44.819003Z"
    }
   },
   "outputs": [],
   "source": [
    "# Create functions used in preprocessing\n",
    "def remove_punctuations(text):\n",
    "    for punctuation in '!%\"#$&\\'()*+,-./:;<=>?@[\\\\]^_`{|}~':\n",
    "        text = text.replace(punctuation, '')\n",
    "    return text\n",
    "def remove_stopwords(text):\n",
    "    words = text.split(\" \")\n",
    "    temp = []\n",
    "    for word in words:\n",
    "        if word in nltk_stopwords:\n",
    "            continue\n",
    "        temp.append(word)\n",
    "    cleaned = \" \".join(temp)\n",
    "    return cleaned\n",
    "def lemmatize(text):\n",
    "    lemmatizer = WordNetLemmatizer()\n",
    "    words = text.split(\" \")\n",
    "    temp = []\n",
    "    for word in words:\n",
    "        res = lemmatizer.lemmatize(word)\n",
    "        temp.append(res)\n",
    "    cleaned = \" \".join(temp)\n",
    "    return cleaned\n",
    "def more_preprocess(text):\n",
    "    result = re.sub(r'—', ' ', text)\n",
    "    result = re.sub(r'•', ' ', result)\n",
    "    result = re.sub(r'\\s+', ' ', result)\n",
    "    result = re.sub(r'\\b[A-Z]?pattern[A-Z]?\\b', '', result)\n",
    "    return result"
   ]
  },
  {
   "cell_type": "markdown",
   "metadata": {},
   "source": [
    "### Feature Engineering"
   ]
  },
  {
   "cell_type": "markdown",
   "metadata": {},
   "source": [
    "For feature engineering part, we created `origin`, `material`, `attribute_value`, `category`, and `colors` features. \n",
    "\n",
    "`origin`: corresponding to the place of production of the item, we fetched this information from the description column.\n",
    "\n",
    "`material`: corresponding to the product materials, for example polyester, cotton, silk, etc.. \n",
    "\n",
    "`attribute_value`: We merge `attribute_value` from the additional tags table with the product table to include information on the product's occasion and style. \n",
    "\n",
    "`category`: corresponding to the category of the products like shoes, bags, and scarves.\n",
    "\n",
    "`color`: corresponding to the colors of each product."
   ]
  },
  {
   "cell_type": "code",
   "execution_count": 11,
   "metadata": {
    "ExecuteTime": {
     "end_time": "2021-05-11T06:20:33.933842Z",
     "start_time": "2021-05-11T06:20:33.840802Z"
    }
   },
   "outputs": [],
   "source": [
    "# Get the information about the product origins\n",
    "df['origin'] = df['description'].str.extract(r'made in\\s(?P<origin>\\w+\\s\\w+)')\n",
    "df['origin'] = df['origin'].fillna('Unknown')"
   ]
  },
  {
   "cell_type": "code",
   "execution_count": 12,
   "metadata": {
    "ExecuteTime": {
     "end_time": "2021-05-11T06:29:57.938946Z",
     "start_time": "2021-05-11T06:29:22.778877Z"
    }
   },
   "outputs": [],
   "source": [
    "for i in range(len(df)):\n",
    "    df['origin'][i] = re.sub(r'(the usa|los angeles|new york|nyc fits|our brooklyn|nyc also|united states|la fits|the u|nyc ways|long beach|la 100|nyc 97)','usa', df['origin'][i])\n",
    "\n",
    "for i in range(len(df)):\n",
    "    if len(df['origin'][i]) > 1:\n",
    "        df['origin'][i] =  df['origin'][i].split()[0]"
   ]
  },
  {
   "cell_type": "code",
   "execution_count": 13,
   "metadata": {
    "ExecuteTime": {
     "end_time": "2021-05-10T11:15:36.589962Z",
     "start_time": "2021-05-10T11:15:36.576000Z"
    }
   },
   "outputs": [
    {
     "data": {
      "text/plain": [
       "Unknown      52510\n",
       "usa           5248\n",
       "italy         1144\n",
       "peru           348\n",
       "china          334\n",
       "             ...  \n",
       "vn               1\n",
       "bali             1\n",
       "hand             1\n",
       "dark             1\n",
       "signature        1\n",
       "Name: origin, Length: 104, dtype: int64"
      ]
     },
     "execution_count": 13,
     "metadata": {},
     "output_type": "execute_result"
    }
   ],
   "source": [
    "df.origin.value_counts()"
   ]
  },
  {
   "cell_type": "code",
   "execution_count": 14,
   "metadata": {
    "ExecuteTime": {
     "end_time": "2021-05-11T06:38:56.700661Z",
     "start_time": "2021-05-11T06:38:56.610737Z"
    }
   },
   "outputs": [],
   "source": [
    "# Fetch information about the product materials\n",
    "df['material'] = df['description'].str.extract(r'%\\s(?P<material>\\w+\\s)')\n",
    "df['material'] = df['material'].fillna('Unknown')"
   ]
  },
  {
   "cell_type": "code",
   "execution_count": 15,
   "metadata": {
    "ExecuteTime": {
     "end_time": "2021-05-10T11:15:44.385939Z",
     "start_time": "2021-05-10T11:15:44.362021Z"
    }
   },
   "outputs": [
    {
     "data": {
      "text/plain": [
       "Unknown         41912\n",
       "cotton           5060\n",
       "viscose          1183\n",
       "polyester        1152\n",
       "elastane          930\n",
       "                ...  \n",
       "cottonmade          1\n",
       "silkstriped         1\n",
       "wooldry             1\n",
       "lace                1\n",
       "silkhand            1\n",
       "Name: material, Length: 321, dtype: int64"
      ]
     },
     "execution_count": 15,
     "metadata": {},
     "output_type": "execute_result"
    }
   ],
   "source": [
    "df.material.value_counts()"
   ]
  },
  {
   "cell_type": "code",
   "execution_count": 16,
   "metadata": {
    "ExecuteTime": {
     "end_time": "2021-05-11T06:48:07.782047Z",
     "start_time": "2021-05-11T06:47:58.996687Z"
    }
   },
   "outputs": [],
   "source": [
    "# We performed the preprocessings after we retrieved information from the data for feature engineering\n",
    "df['description'] = df['description'].apply(remove_punctuations)\n",
    "df['description'] = df['description'].apply(remove_stopwords)\n",
    "df['description'] = df['description'].apply(lemmatize)"
   ]
  },
  {
   "cell_type": "code",
   "execution_count": 17,
   "metadata": {
    "ExecuteTime": {
     "end_time": "2021-05-11T06:57:06.371331Z",
     "start_time": "2021-05-11T06:57:05.323154Z"
    }
   },
   "outputs": [],
   "source": [
    "df['name'] = df['name'].apply(remove_punctuations)\n",
    "df['name'] = df['name'].apply(remove_stopwords)\n",
    "df['name'] = df['name'].apply(lemmatize)"
   ]
  },
  {
   "cell_type": "code",
   "execution_count": 18,
   "metadata": {
    "ExecuteTime": {
     "end_time": "2021-05-11T07:05:59.458963Z",
     "start_time": "2021-05-11T07:05:58.416407Z"
    }
   },
   "outputs": [],
   "source": [
    "df['description'] = df['description'].apply(more_preprocess)"
   ]
  },
  {
   "cell_type": "code",
   "execution_count": 19,
   "metadata": {
    "ExecuteTime": {
     "end_time": "2021-05-11T07:15:15.483230Z",
     "start_time": "2021-05-11T07:15:13.625404Z"
    }
   },
   "outputs": [],
   "source": [
    "df['details'] = df['details'].apply(remove_punctuations)\n",
    "df['details'] = df['details'].apply(remove_stopwords)\n",
    "df['details'] = df['details'].apply(lemmatize)"
   ]
  },
  {
   "cell_type": "code",
   "execution_count": 21,
   "metadata": {
    "ExecuteTime": {
     "end_time": "2021-05-11T07:24:04.093824Z",
     "start_time": "2021-05-11T07:24:04.000314Z"
    }
   },
   "outputs": [],
   "source": [
    "# Import the additional tags data:\n",
    "add = pd.read_csv('usc_additional_tags USC.csv')"
   ]
  },
  {
   "cell_type": "code",
   "execution_count": 22,
   "metadata": {
    "ExecuteTime": {
     "end_time": "2021-05-10T11:16:29.591071Z",
     "start_time": "2021-05-10T11:16:29.568152Z"
    }
   },
   "outputs": [
    {
     "data": {
      "text/html": [
       "<div>\n",
       "<style scoped>\n",
       "    .dataframe tbody tr th:only-of-type {\n",
       "        vertical-align: middle;\n",
       "    }\n",
       "\n",
       "    .dataframe tbody tr th {\n",
       "        vertical-align: top;\n",
       "    }\n",
       "\n",
       "    .dataframe thead th {\n",
       "        text-align: right;\n",
       "    }\n",
       "</style>\n",
       "<table border=\"1\" class=\"dataframe\">\n",
       "  <thead>\n",
       "    <tr style=\"text-align: right;\">\n",
       "      <th></th>\n",
       "      <th>product_id</th>\n",
       "      <th>product_color_id</th>\n",
       "      <th>attribute_name</th>\n",
       "      <th>attribute_value</th>\n",
       "    </tr>\n",
       "  </thead>\n",
       "  <tbody>\n",
       "    <tr>\n",
       "      <th>0</th>\n",
       "      <td>01E5ZXP5H0BTEZT9QD2HRZJ47A</td>\n",
       "      <td>01E5ZXP5JCREDC7WJVMWHK5Q40</td>\n",
       "      <td>materialclothing</td>\n",
       "      <td>linenblend</td>\n",
       "    </tr>\n",
       "    <tr>\n",
       "      <th>1</th>\n",
       "      <td>01E5ZXP5H0BTEZT9QD2HRZJ47A</td>\n",
       "      <td>01E5ZXP5JCREDC7WJVMWHK5Q40</td>\n",
       "      <td>materialclothing</td>\n",
       "      <td>cottonblend</td>\n",
       "    </tr>\n",
       "    <tr>\n",
       "      <th>2</th>\n",
       "      <td>01E5ZXP5H0BTEZT9QD2HRZJ47A</td>\n",
       "      <td>01E5ZXP5JCREDC7WJVMWHK5Q40</td>\n",
       "      <td>style</td>\n",
       "      <td>modern</td>\n",
       "    </tr>\n",
       "    <tr>\n",
       "      <th>3</th>\n",
       "      <td>01E5ZXP5H0BTEZT9QD2HRZJ47A</td>\n",
       "      <td>01E5ZXP5JCREDC7WJVMWHK5Q40</td>\n",
       "      <td>style</td>\n",
       "      <td>businesscasual</td>\n",
       "    </tr>\n",
       "    <tr>\n",
       "      <th>4</th>\n",
       "      <td>01E5ZXP5H0BTEZT9QD2HRZJ47A</td>\n",
       "      <td>01E5ZXP5JCREDC7WJVMWHK5Q40</td>\n",
       "      <td>style</td>\n",
       "      <td>classic</td>\n",
       "    </tr>\n",
       "  </tbody>\n",
       "</table>\n",
       "</div>"
      ],
      "text/plain": [
       "                   product_id            product_color_id    attribute_name  \\\n",
       "0  01E5ZXP5H0BTEZT9QD2HRZJ47A  01E5ZXP5JCREDC7WJVMWHK5Q40  materialclothing   \n",
       "1  01E5ZXP5H0BTEZT9QD2HRZJ47A  01E5ZXP5JCREDC7WJVMWHK5Q40  materialclothing   \n",
       "2  01E5ZXP5H0BTEZT9QD2HRZJ47A  01E5ZXP5JCREDC7WJVMWHK5Q40             style   \n",
       "3  01E5ZXP5H0BTEZT9QD2HRZJ47A  01E5ZXP5JCREDC7WJVMWHK5Q40             style   \n",
       "4  01E5ZXP5H0BTEZT9QD2HRZJ47A  01E5ZXP5JCREDC7WJVMWHK5Q40             style   \n",
       "\n",
       "  attribute_value  \n",
       "0      linenblend  \n",
       "1     cottonblend  \n",
       "2          modern  \n",
       "3  businesscasual  \n",
       "4         classic  "
      ]
     },
     "execution_count": 22,
     "metadata": {},
     "output_type": "execute_result"
    }
   ],
   "source": [
    "add.head()"
   ]
  },
  {
   "cell_type": "code",
   "execution_count": 23,
   "metadata": {
    "ExecuteTime": {
     "end_time": "2021-05-11T07:32:54.623000Z",
     "start_time": "2021-05-11T07:32:54.562172Z"
    }
   },
   "outputs": [],
   "source": [
    "# Group the attribute_value rows together for the same product_id\n",
    "grouping = add.groupby(['product_id'], as_index = False).agg({'attribute_value': ' '.join})"
   ]
  },
  {
   "cell_type": "code",
   "execution_count": 24,
   "metadata": {
    "ExecuteTime": {
     "end_time": "2021-05-11T07:41:43.438539Z",
     "start_time": "2021-05-11T07:41:43.362788Z"
    }
   },
   "outputs": [],
   "source": [
    "# Merge the grouped additional tags data with the product data\n",
    "df = df.merge(grouping, on = 'product_id',how = 'left')"
   ]
  },
  {
   "cell_type": "code",
   "execution_count": 25,
   "metadata": {
    "ExecuteTime": {
     "end_time": "2021-05-11T07:50:35.669250Z",
     "start_time": "2021-05-11T07:50:35.655297Z"
    }
   },
   "outputs": [],
   "source": [
    "df['attribute_value'] = df['attribute_value'].fillna('Unknown')"
   ]
  },
  {
   "cell_type": "code",
   "execution_count": 26,
   "metadata": {
    "ExecuteTime": {
     "end_time": "2021-05-10T11:16:35.460360Z",
     "start_time": "2021-05-10T11:16:35.436444Z"
    }
   },
   "outputs": [
    {
     "data": {
      "text/html": [
       "<div>\n",
       "<style scoped>\n",
       "    .dataframe tbody tr th:only-of-type {\n",
       "        vertical-align: middle;\n",
       "    }\n",
       "\n",
       "    .dataframe tbody tr th {\n",
       "        vertical-align: top;\n",
       "    }\n",
       "\n",
       "    .dataframe thead th {\n",
       "        text-align: right;\n",
       "    }\n",
       "</style>\n",
       "<table border=\"1\" class=\"dataframe\">\n",
       "  <thead>\n",
       "    <tr style=\"text-align: right;\">\n",
       "      <th></th>\n",
       "      <th>product_id</th>\n",
       "      <th>brand</th>\n",
       "      <th>brand_category</th>\n",
       "      <th>name</th>\n",
       "      <th>description</th>\n",
       "      <th>product_active</th>\n",
       "      <th>details</th>\n",
       "      <th>origin</th>\n",
       "      <th>material</th>\n",
       "      <th>attribute_value</th>\n",
       "    </tr>\n",
       "  </thead>\n",
       "  <tbody>\n",
       "    <tr>\n",
       "      <th>0</th>\n",
       "      <td>01EX0PN4J9WRNZH5F93YEX6QAF</td>\n",
       "      <td>Two</td>\n",
       "      <td>Unknown</td>\n",
       "      <td>khadi stripe shirtour signature shirt</td>\n",
       "      <td>signature khadi shirt available black white ea...</td>\n",
       "      <td>True</td>\n",
       "      <td>Unknown</td>\n",
       "      <td>Unknown</td>\n",
       "      <td>Unknown</td>\n",
       "      <td>Unknown</td>\n",
       "    </tr>\n",
       "    <tr>\n",
       "      <th>1</th>\n",
       "      <td>01F0C4SKZV6YXS3265JMC39NXW</td>\n",
       "      <td>Collina Strada</td>\n",
       "      <td>Unknown</td>\n",
       "      <td>ruffle market dress loopy pink sistine tomato</td>\n",
       "      <td>midlength dress ruffle adjustable strap bias c...</td>\n",
       "      <td>True</td>\n",
       "      <td>Unknown</td>\n",
       "      <td>usa</td>\n",
       "      <td>rose</td>\n",
       "      <td>Unknown</td>\n",
       "    </tr>\n",
       "    <tr>\n",
       "      <th>2</th>\n",
       "      <td>01EY4Y1BW8VZW51BWG5VZY82XW</td>\n",
       "      <td>Cariuma</td>\n",
       "      <td>Unknown</td>\n",
       "      <td>ibi slip raw red knit sneaker woman</td>\n",
       "      <td>ibi slip raw red knit sneaker woman</td>\n",
       "      <td>False</td>\n",
       "      <td>Unknown</td>\n",
       "      <td>Unknown</td>\n",
       "      <td>Unknown</td>\n",
       "      <td>Unknown</td>\n",
       "    </tr>\n",
       "    <tr>\n",
       "      <th>3</th>\n",
       "      <td>01EY50E27A0P5V6KCW01XPDB43</td>\n",
       "      <td>Cariuma</td>\n",
       "      <td>Unknown</td>\n",
       "      <td>ibi slip black knit sneaker woman</td>\n",
       "      <td>ibi slip black knit sneaker woman</td>\n",
       "      <td>False</td>\n",
       "      <td>Unknown</td>\n",
       "      <td>Unknown</td>\n",
       "      <td>Unknown</td>\n",
       "      <td>Unknown</td>\n",
       "    </tr>\n",
       "    <tr>\n",
       "      <th>4</th>\n",
       "      <td>01EY6DWHC2W5HPNEGXKEJ4A1CX</td>\n",
       "      <td>Cariuma</td>\n",
       "      <td>Unknown</td>\n",
       "      <td>catiba pro skate black suede canvas contrast t...</td>\n",
       "      <td>Unknown</td>\n",
       "      <td>False</td>\n",
       "      <td>Unknown</td>\n",
       "      <td>Unknown</td>\n",
       "      <td>Unknown</td>\n",
       "      <td>Unknown</td>\n",
       "    </tr>\n",
       "  </tbody>\n",
       "</table>\n",
       "</div>"
      ],
      "text/plain": [
       "                   product_id           brand brand_category  \\\n",
       "0  01EX0PN4J9WRNZH5F93YEX6QAF             Two        Unknown   \n",
       "1  01F0C4SKZV6YXS3265JMC39NXW  Collina Strada        Unknown   \n",
       "2  01EY4Y1BW8VZW51BWG5VZY82XW         Cariuma        Unknown   \n",
       "3  01EY50E27A0P5V6KCW01XPDB43         Cariuma        Unknown   \n",
       "4  01EY6DWHC2W5HPNEGXKEJ4A1CX         Cariuma        Unknown   \n",
       "\n",
       "                                                name  \\\n",
       "0              khadi stripe shirtour signature shirt   \n",
       "1      ruffle market dress loopy pink sistine tomato   \n",
       "2                ibi slip raw red knit sneaker woman   \n",
       "3                  ibi slip black knit sneaker woman   \n",
       "4  catiba pro skate black suede canvas contrast t...   \n",
       "\n",
       "                                         description  product_active  details  \\\n",
       "0  signature khadi shirt available black white ea...            True  Unknown   \n",
       "1  midlength dress ruffle adjustable strap bias c...            True  Unknown   \n",
       "2                ibi slip raw red knit sneaker woman           False  Unknown   \n",
       "3                  ibi slip black knit sneaker woman           False  Unknown   \n",
       "4                                            Unknown           False  Unknown   \n",
       "\n",
       "    origin material attribute_value  \n",
       "0  Unknown  Unknown         Unknown  \n",
       "1      usa    rose          Unknown  \n",
       "2  Unknown  Unknown         Unknown  \n",
       "3  Unknown  Unknown         Unknown  \n",
       "4  Unknown  Unknown         Unknown  "
      ]
     },
     "execution_count": 26,
     "metadata": {},
     "output_type": "execute_result"
    }
   ],
   "source": [
    "df.head()"
   ]
  },
  {
   "cell_type": "code",
   "execution_count": 27,
   "metadata": {
    "ExecuteTime": {
     "end_time": "2021-05-11T07:59:26.179279Z",
     "start_time": "2021-05-11T07:59:26.165326Z"
    }
   },
   "outputs": [],
   "source": [
    "# Create the category variable\n",
    "df['category'] = 'Unknown'"
   ]
  },
  {
   "cell_type": "code",
   "execution_count": 28,
   "metadata": {
    "ExecuteTime": {
     "end_time": "2021-05-11T08:08:29.792362Z",
     "start_time": "2021-05-11T08:08:18.156962Z"
    }
   },
   "outputs": [],
   "source": [
    "for i in range(len(df)):\n",
    "    if len(re.findall(r\"\\b(skirt|jeans|pants|dress|cargo|shorts|overalls|trousers|leggings)\", df['description'][i], flags=re.IGNORECASE)) >= 1:\n",
    "        df['category'][i] = 'Bottom'\n",
    "    elif len(re.findall(r\"\\b(shoe|boot|flat|heel|sneaker|sandal|loafer|espadrille|oxford|moccasin|monkstrap)\", df['description'][i], flags=re.IGNORECASE)) >= 1:\n",
    "        df['category'][i] = 'Shoe'\n",
    "    elif len(re.findall(r\"\\b(scarf|scarves)\", df['description'][i], flags=re.IGNORECASE)) >= 1:\n",
    "        df['category'][i] = 'Scarf'\n",
    "    elif len(re.findall(r\"\\b(bag|clutch|pouch|satchel|duffle|tote|messenger bag|shoulder bag)\", df['description'][i], flags=re.IGNORECASE)) >= 1:\n",
    "        df['category'][i] = 'Handbag'\n",
    "    elif len(re.findall(r\"\\b(one piece|one-piece|all-in-one|jumpsuit|playsuit|dress)\", df['description'][i], flags=re.IGNORECASE)) >= 1:\n",
    "        df['category'][i] = 'One Piece'\n",
    "        "
   ]
  },
  {
   "cell_type": "code",
   "execution_count": 29,
   "metadata": {
    "ExecuteTime": {
     "end_time": "2021-05-11T08:17:32.340090Z",
     "start_time": "2021-05-11T08:17:25.680965Z"
    }
   },
   "outputs": [],
   "source": [
    "for i in range(len(df)):\n",
    "    if len(re.findall(r\"\\b(skirt|jeans|pants|dress|cargo|shorts|overalls|trousers|leggings)\", df['name'][i], flags=re.IGNORECASE)) >= 1:\n",
    "        df['category'][i] = 'Bottom'\n",
    "    elif len(re.findall(r\"\\b(shoe|boot|flat|heel|sneaker|sandal|loafer|espadrille|oxford|moccasin|monkstrap)\", df['name'][i], flags=re.IGNORECASE)) >= 1:\n",
    "        df['category'][i] = 'Shoe'\n",
    "    elif len(re.findall(r\"\\b(scarf|scarves)\", df['name'][i], flags=re.IGNORECASE)) >= 1:\n",
    "        df['category'][i] = 'Scarf'\n",
    "    elif len(re.findall(r\"\\b(bag|clutch|pouch|satchel|duffle|tote|messenger bag|shoulder bag)\", df['name'][i], flags=re.IGNORECASE)) >= 1:\n",
    "        df['category'][i] = 'Handbag'\n",
    "    elif len(re.findall(r\"\\b(one piece|one-piece|all-in-one|jumpsuit|playsuit|dress)\", df['name'][i], flags=re.IGNORECASE)) >= 1:\n",
    "        df['category'][i] = 'One Piece'"
   ]
  },
  {
   "cell_type": "code",
   "execution_count": 30,
   "metadata": {
    "ExecuteTime": {
     "end_time": "2021-05-11T08:26:32.144866Z",
     "start_time": "2021-05-11T08:26:27.390678Z"
    }
   },
   "outputs": [],
   "source": [
    "for i in range(len(df)):\n",
    "    if len(re.findall(r\"\\b(skirt|jeans|pants|dress|cargo|shorts|overalls|trousers|leggings)\", df['details'][i], flags=re.IGNORECASE)) >= 1:\n",
    "        df['category'][i] = 'Bottom'\n",
    "    elif len(re.findall(r\"\\b(shoe|boot|flat|heel|sneaker|sandal|loafer|espadrille|oxford|moccasin|monkstrap)\", df['details'][i], flags=re.IGNORECASE)) >= 1:\n",
    "        df['category'][i] = 'Shoe'\n",
    "    elif len(re.findall(r\"\\b(scarf|scarves)\", df['details'][i], flags=re.IGNORECASE)) >= 1:\n",
    "        df['category'][i] = 'Scarf'\n",
    "    elif len(re.findall(r\"\\b(bag|clutch|pouch|satchel|duffle|tote|messenger bag|shoulder bag)\", df['details'][i], flags=re.IGNORECASE)) >= 1:\n",
    "        df['category'][i] = 'Handbag'\n",
    "    elif len(re.findall(r\"\\b(one piece|one-piece|all-in-one|jumpsuit|playsuit|dress)\", df['details'][i], flags=re.IGNORECASE)) >= 1:\n",
    "        df['category'][i] = 'One Piece'"
   ]
  },
  {
   "cell_type": "code",
   "execution_count": 31,
   "metadata": {
    "ExecuteTime": {
     "end_time": "2021-05-11T08:35:29.086608Z",
     "start_time": "2021-05-11T08:35:29.072655Z"
    }
   },
   "outputs": [
    {
     "data": {
      "text/plain": [
       "Unknown      36696\n",
       "Bottom       11951\n",
       "Shoe          8343\n",
       "Handbag       2878\n",
       "One Piece      989\n",
       "Scarf          498\n",
       "Name: category, dtype: int64"
      ]
     },
     "execution_count": 31,
     "metadata": {},
     "output_type": "execute_result"
    }
   ],
   "source": [
    "df['category'].value_counts()"
   ]
  },
  {
   "cell_type": "code",
   "execution_count": 32,
   "metadata": {
    "ExecuteTime": {
     "end_time": "2021-05-11T08:44:26.111024Z",
     "start_time": "2021-05-11T08:44:26.097115Z"
    }
   },
   "outputs": [],
   "source": [
    "# Create the colors variable\n",
    "df['colors'] = ''"
   ]
  },
  {
   "cell_type": "code",
   "execution_count": 33,
   "metadata": {
    "ExecuteTime": {
     "end_time": "2021-05-11T08:53:44.868297Z",
     "start_time": "2021-05-11T08:53:17.311926Z"
    }
   },
   "outputs": [],
   "source": [
    "for i in range(len(df)):\n",
    "    for col in set(re.findall(r\"(beige|black|blue|brown|burgundy|gold|gray|navy|green|neutral|orange|pink|purple|silver|teal|white|yellow)\", df['description'][i], flags=re.IGNORECASE)):\n",
    "        df['colors'][i] = df['colors'][i] + ' ' + col\n",
    "    if df['colors'][i] == '':\n",
    "        df['colors'][i] = 'Unknown'"
   ]
  },
  {
   "cell_type": "code",
   "execution_count": 34,
   "metadata": {
    "ExecuteTime": {
     "end_time": "2021-05-11T09:03:21.957029Z",
     "start_time": "2021-05-11T09:03:19.571757Z"
    }
   },
   "outputs": [],
   "source": [
    "for i in range(len(df)):\n",
    "    for col in set(re.findall(r\"(beige|black|blue|brown|burgundy|gold|gray|navy|green|neutral|orange|pink|purple|silver|teal|white|yellow)\", df['details'][i], flags=re.IGNORECASE)):\n",
    "        df['colors'][i] = df['colors'][i] + ' ' + col\n",
    "    if df['colors'][i] == '':\n",
    "        df['colors'][i] = 'Unknown'"
   ]
  },
  {
   "cell_type": "code",
   "execution_count": 39,
   "metadata": {
    "ExecuteTime": {
     "end_time": "2021-05-10T11:17:24.179765Z",
     "start_time": "2021-05-10T11:17:24.164808Z"
    }
   },
   "outputs": [
    {
     "data": {
      "text/html": [
       "<div>\n",
       "<style scoped>\n",
       "    .dataframe tbody tr th:only-of-type {\n",
       "        vertical-align: middle;\n",
       "    }\n",
       "\n",
       "    .dataframe tbody tr th {\n",
       "        vertical-align: top;\n",
       "    }\n",
       "\n",
       "    .dataframe thead th {\n",
       "        text-align: right;\n",
       "    }\n",
       "</style>\n",
       "<table border=\"1\" class=\"dataframe\">\n",
       "  <thead>\n",
       "    <tr style=\"text-align: right;\">\n",
       "      <th></th>\n",
       "      <th>product_id</th>\n",
       "      <th>brand</th>\n",
       "      <th>brand_category</th>\n",
       "      <th>name</th>\n",
       "      <th>description</th>\n",
       "      <th>product_active</th>\n",
       "      <th>origin</th>\n",
       "      <th>material</th>\n",
       "      <th>attribute_value</th>\n",
       "      <th>category</th>\n",
       "      <th>colors</th>\n",
       "    </tr>\n",
       "  </thead>\n",
       "  <tbody>\n",
       "    <tr>\n",
       "      <th>0</th>\n",
       "      <td>01EX0PN4J9WRNZH5F93YEX6QAF</td>\n",
       "      <td>Two</td>\n",
       "      <td>Unknown</td>\n",
       "      <td>khadi stripe shirtour signature shirt</td>\n",
       "      <td>signature khadi shirt available black white ea...</td>\n",
       "      <td>True</td>\n",
       "      <td>Unknown</td>\n",
       "      <td>Unknown</td>\n",
       "      <td>Unknown</td>\n",
       "      <td>Unknown</td>\n",
       "      <td>white black</td>\n",
       "    </tr>\n",
       "    <tr>\n",
       "      <th>1</th>\n",
       "      <td>01F0C4SKZV6YXS3265JMC39NXW</td>\n",
       "      <td>Collina Strada</td>\n",
       "      <td>Unknown</td>\n",
       "      <td>ruffle market dress loopy pink sistine tomato</td>\n",
       "      <td>midlength dress ruffle adjustable strap bias c...</td>\n",
       "      <td>True</td>\n",
       "      <td>usa</td>\n",
       "      <td>rose</td>\n",
       "      <td>Unknown</td>\n",
       "      <td>Bottom</td>\n",
       "      <td>Unknown</td>\n",
       "    </tr>\n",
       "    <tr>\n",
       "      <th>2</th>\n",
       "      <td>01EY4Y1BW8VZW51BWG5VZY82XW</td>\n",
       "      <td>Cariuma</td>\n",
       "      <td>Unknown</td>\n",
       "      <td>ibi slip raw red knit sneaker woman</td>\n",
       "      <td>ibi slip raw red knit sneaker woman</td>\n",
       "      <td>False</td>\n",
       "      <td>Unknown</td>\n",
       "      <td>Unknown</td>\n",
       "      <td>Unknown</td>\n",
       "      <td>Shoe</td>\n",
       "      <td>Unknown</td>\n",
       "    </tr>\n",
       "    <tr>\n",
       "      <th>3</th>\n",
       "      <td>01EY50E27A0P5V6KCW01XPDB43</td>\n",
       "      <td>Cariuma</td>\n",
       "      <td>Unknown</td>\n",
       "      <td>ibi slip black knit sneaker woman</td>\n",
       "      <td>ibi slip black knit sneaker woman</td>\n",
       "      <td>False</td>\n",
       "      <td>Unknown</td>\n",
       "      <td>Unknown</td>\n",
       "      <td>Unknown</td>\n",
       "      <td>Shoe</td>\n",
       "      <td>black</td>\n",
       "    </tr>\n",
       "    <tr>\n",
       "      <th>4</th>\n",
       "      <td>01EY6DWHC2W5HPNEGXKEJ4A1CX</td>\n",
       "      <td>Cariuma</td>\n",
       "      <td>Unknown</td>\n",
       "      <td>catiba pro skate black suede canvas contrast t...</td>\n",
       "      <td>Unknown</td>\n",
       "      <td>False</td>\n",
       "      <td>Unknown</td>\n",
       "      <td>Unknown</td>\n",
       "      <td>Unknown</td>\n",
       "      <td>Shoe</td>\n",
       "      <td>Unknown</td>\n",
       "    </tr>\n",
       "  </tbody>\n",
       "</table>\n",
       "</div>"
      ],
      "text/plain": [
       "                   product_id           brand brand_category  \\\n",
       "0  01EX0PN4J9WRNZH5F93YEX6QAF             Two        Unknown   \n",
       "1  01F0C4SKZV6YXS3265JMC39NXW  Collina Strada        Unknown   \n",
       "2  01EY4Y1BW8VZW51BWG5VZY82XW         Cariuma        Unknown   \n",
       "3  01EY50E27A0P5V6KCW01XPDB43         Cariuma        Unknown   \n",
       "4  01EY6DWHC2W5HPNEGXKEJ4A1CX         Cariuma        Unknown   \n",
       "\n",
       "                                                name  \\\n",
       "0              khadi stripe shirtour signature shirt   \n",
       "1      ruffle market dress loopy pink sistine tomato   \n",
       "2                ibi slip raw red knit sneaker woman   \n",
       "3                  ibi slip black knit sneaker woman   \n",
       "4  catiba pro skate black suede canvas contrast t...   \n",
       "\n",
       "                                         description  product_active   origin  \\\n",
       "0  signature khadi shirt available black white ea...            True  Unknown   \n",
       "1  midlength dress ruffle adjustable strap bias c...            True      usa   \n",
       "2                ibi slip raw red knit sneaker woman           False  Unknown   \n",
       "3                  ibi slip black knit sneaker woman           False  Unknown   \n",
       "4                                            Unknown           False  Unknown   \n",
       "\n",
       "  material attribute_value category        colors  \n",
       "0  Unknown         Unknown  Unknown   white black  \n",
       "1    rose          Unknown   Bottom       Unknown  \n",
       "2  Unknown         Unknown     Shoe       Unknown  \n",
       "3  Unknown         Unknown     Shoe         black  \n",
       "4  Unknown         Unknown     Shoe       Unknown  "
      ]
     },
     "execution_count": 39,
     "metadata": {},
     "output_type": "execute_result"
    }
   ],
   "source": [
    "df.head()"
   ]
  },
  {
   "cell_type": "code",
   "execution_count": 104,
   "metadata": {
    "ExecuteTime": {
     "end_time": "2021-05-11T09:13:05.560125Z",
     "start_time": "2021-05-11T09:13:04.908260Z"
    }
   },
   "outputs": [],
   "source": [
    "df.to_csv('product_data.csv')"
   ]
  },
  {
   "cell_type": "code",
   "execution_count": 3,
   "metadata": {
    "ExecuteTime": {
     "end_time": "2021-05-10T11:09:46.425341Z",
     "start_time": "2021-05-10T11:09:46.144525Z"
    }
   },
   "outputs": [],
   "source": [
    "#df=pd.read_csv('product_data.csv')"
   ]
  },
  {
   "cell_type": "markdown",
   "metadata": {},
   "source": [
    "## Embeddings"
   ]
  },
  {
   "cell_type": "markdown",
   "metadata": {},
   "source": [
    "**In classification, we only took the top 30 more frequently appeared brands, and encoded the rest as 'Other'.** "
   ]
  },
  {
   "cell_type": "code",
   "execution_count": 105,
   "metadata": {
    "ExecuteTime": {
     "end_time": "2021-05-11T09:23:20.186390Z",
     "start_time": "2021-05-11T09:23:20.155443Z"
    }
   },
   "outputs": [],
   "source": [
    "brands = pd.read_csv('behold_brands.csv')"
   ]
  },
  {
   "cell_type": "code",
   "execution_count": 106,
   "metadata": {
    "ExecuteTime": {
     "end_time": "2021-05-11T09:34:07.644494Z",
     "start_time": "2021-05-11T09:34:07.613554Z"
    }
   },
   "outputs": [],
   "source": [
    "top30 = df.groupby('brand').agg({'product_id':'count'}).sort_values(by = 'product_id', ascending = False).head(30).index"
   ]
  },
  {
   "cell_type": "code",
   "execution_count": 107,
   "metadata": {
    "ExecuteTime": {
     "end_time": "2021-05-11T09:44:44.560882Z",
     "start_time": "2021-05-11T09:44:38.798439Z"
    }
   },
   "outputs": [],
   "source": [
    "for i in range(len(df)):\n",
    "    if df['brand'][i] in top30:\n",
    "        continue\n",
    "    else:\n",
    "        df['brand'][i] = 'Other'"
   ]
  },
  {
   "cell_type": "code",
   "execution_count": 108,
   "metadata": {
    "ExecuteTime": {
     "end_time": "2021-05-11T09:55:27.843235Z",
     "start_time": "2021-05-11T09:55:27.482536Z"
    }
   },
   "outputs": [],
   "source": [
    "df['total'] = (df['brand_category'] + ' ' + df['name'] + ' ' + df['description'] +\\\n",
    "               ' ' + df['origin']+ ' ' + df['material']+ ' ' + df['category']+ ' ' + df['colors']+\\\n",
    "               ' ' + df['attribute_value']+ ' ' + df['details']).apply(str)\n",
    "X = df['total'].values"
   ]
  },
  {
   "cell_type": "code",
   "execution_count": 109,
   "metadata": {
    "ExecuteTime": {
     "end_time": "2021-05-11T10:06:05.063672Z",
     "start_time": "2021-05-11T10:06:05.049730Z"
    }
   },
   "outputs": [
    {
     "data": {
      "text/plain": [
       "'fit model 59½ wearing size xsmall fabric content 75 polyester 25 elastanecategory lolux detail bollinger pant contructed buttery soft lolux fabric feature simple waistband flared leg highrise style perfect wear studio throw post practicestyle var00434'"
      ]
     },
     "execution_count": 109,
     "metadata": {},
     "output_type": "execute_result"
    }
   ],
   "source": [
    "df['description'][59796]"
   ]
  },
  {
   "cell_type": "markdown",
   "metadata": {},
   "source": [
    "### Get Max Length of Tokens and Integer Encode the Documents"
   ]
  },
  {
   "cell_type": "code",
   "execution_count": 110,
   "metadata": {
    "ExecuteTime": {
     "end_time": "2021-05-11T10:17:01.973331Z",
     "start_time": "2021-05-11T10:17:01.958380Z"
    }
   },
   "outputs": [],
   "source": [
    "def get_max_token_length_per_doc(docs):\n",
    "    return max(list(map(lambda x: len(x.split()), docs)))"
   ]
  },
  {
   "cell_type": "code",
   "execution_count": 111,
   "metadata": {
    "ExecuteTime": {
     "end_time": "2021-05-11T10:26:26.086549Z",
     "start_time": "2021-05-11T10:26:25.866733Z"
    }
   },
   "outputs": [],
   "source": [
    "max_length = get_max_token_length_per_doc(X)"
   ]
  },
  {
   "cell_type": "code",
   "execution_count": 112,
   "metadata": {
    "ExecuteTime": {
     "end_time": "2021-05-11T10:36:56.667745Z",
     "start_time": "2021-05-11T10:36:52.154813Z"
    }
   },
   "outputs": [],
   "source": [
    "tokenizer = Tokenizer(num_words=5000, oov_token=\"UNKNOWN_TOKEN\")\n",
    "tokenizer.fit_on_texts(X)"
   ]
  },
  {
   "cell_type": "code",
   "execution_count": 113,
   "metadata": {
    "ExecuteTime": {
     "end_time": "2021-05-11T10:47:34.163128Z",
     "start_time": "2021-05-11T10:47:34.149175Z"
    }
   },
   "outputs": [],
   "source": [
    "def integer_encode_documents(docs, tokenizer):\n",
    "    return tokenizer.texts_to_sequences(docs)"
   ]
  },
  {
   "cell_type": "code",
   "execution_count": 114,
   "metadata": {
    "ExecuteTime": {
     "end_time": "2021-05-11T11:00:48.722617Z",
     "start_time": "2021-05-11T11:00:45.266029Z"
    }
   },
   "outputs": [],
   "source": [
    "X = integer_encode_documents(X, tokenizer)"
   ]
  },
  {
   "cell_type": "markdown",
   "metadata": {},
   "source": [
    "### Pad Documents to Max Length"
   ]
  },
  {
   "cell_type": "code",
   "execution_count": 115,
   "metadata": {
    "ExecuteTime": {
     "end_time": "2021-05-11T11:12:18.538335Z",
     "start_time": "2021-05-11T11:12:18.083346Z"
    }
   },
   "outputs": [],
   "source": [
    "X = pad_sequences(X, maxlen=max_length, padding='post')"
   ]
  },
  {
   "cell_type": "code",
   "execution_count": 116,
   "metadata": {
    "ExecuteTime": {
     "end_time": "2021-05-11T11:22:34.714721Z",
     "start_time": "2021-05-11T11:22:34.558969Z"
    }
   },
   "outputs": [],
   "source": [
    "df[\"brand\"] = df[\"brand\"].astype('category')\n",
    "df[\"brand\"] = df[\"brand\"].cat.codes"
   ]
  },
  {
   "cell_type": "code",
   "execution_count": 117,
   "metadata": {
    "ExecuteTime": {
     "end_time": "2021-05-11T11:36:44.381518Z",
     "start_time": "2021-05-11T11:36:44.134337Z"
    }
   },
   "outputs": [],
   "source": [
    "encoder = LabelEncoder()\n",
    "labels = to_categorical(encoder.fit_transform(df['brand']))"
   ]
  },
  {
   "cell_type": "code",
   "execution_count": 118,
   "metadata": {
    "ExecuteTime": {
     "end_time": "2021-05-11T11:47:54.368708Z",
     "start_time": "2021-05-11T11:47:53.838953Z"
    }
   },
   "outputs": [],
   "source": [
    "X_train, X_test, y_train, y_test = train_test_split(X, labels, test_size = 0.2, random_state = 1)"
   ]
  },
  {
   "cell_type": "code",
   "execution_count": 119,
   "metadata": {
    "ExecuteTime": {
     "end_time": "2021-05-11T11:58:46.633623Z",
     "start_time": "2021-05-11T11:58:46.621664Z"
    }
   },
   "outputs": [],
   "source": [
    "VOCAB_SIZE = int(len(tokenizer.word_index) * 1.1)"
   ]
  },
  {
   "cell_type": "markdown",
   "metadata": {},
   "source": [
    "### Load in GloVe Vectors"
   ]
  },
  {
   "cell_type": "code",
   "execution_count": 120,
   "metadata": {
    "ExecuteTime": {
     "end_time": "2021-05-11T12:09:36.812117Z",
     "start_time": "2021-05-11T12:09:22.329642Z"
    }
   },
   "outputs": [
    {
     "name": "stdout",
     "output_type": "stream",
     "text": [
      "Loaded 400000 word vectors.\n"
     ]
    }
   ],
   "source": [
    "# Load in GloVe Vectors\n",
    "\n",
    "def load_glove_vectors():\n",
    "    embeddings_index = {}\n",
    "    with open('glove.6B.100d.txt',encoding='utf-8') as f:\n",
    "        for line in f:\n",
    "            values = line.split()\n",
    "            word = values[0]\n",
    "            coefs = asarray(values[1:], dtype='float32')\n",
    "            embeddings_index[word] = coefs\n",
    "    print('Loaded %s word vectors.' % len(embeddings_index))\n",
    "    return embeddings_index\n",
    "\n",
    "\n",
    "embeddings_index = load_glove_vectors()"
   ]
  },
  {
   "cell_type": "markdown",
   "metadata": {},
   "source": [
    "### Load in Embeddings"
   ]
  },
  {
   "cell_type": "code",
   "execution_count": 121,
   "metadata": {
    "ExecuteTime": {
     "end_time": "2021-05-11T12:19:44.615200Z",
     "start_time": "2021-05-11T12:19:44.490790Z"
    }
   },
   "outputs": [],
   "source": [
    "# create a weight matrix for words in training docs\n",
    "embedding_matrix = zeros((VOCAB_SIZE, 100))\n",
    "for word, i in tokenizer.word_index.items():\n",
    "    embedding_vector = embeddings_index.get(word)\n",
    "    if embedding_vector is not None: # check that it is an actual word that we have embeddings for\n",
    "        embedding_matrix[i] = embedding_vector"
   ]
  },
  {
   "cell_type": "markdown",
   "metadata": {},
   "source": [
    "## Modeling"
   ]
  },
  {
   "cell_type": "markdown",
   "metadata": {},
   "source": [
    "### Define Models"
   ]
  },
  {
   "cell_type": "code",
   "execution_count": null,
   "metadata": {
    "ExecuteTime": {
     "end_time": "2021-05-12T00:22:57.082443Z",
     "start_time": "2021-05-12T00:19:13.290Z"
    }
   },
   "outputs": [],
   "source": [
    "# Define the models\n",
    "\n",
    "def make_classification_rnn_model(plot=False):\n",
    "    model = Sequential()\n",
    "    model.add(Embedding(VOCAB_SIZE, 100, weights=[embedding_matrix], input_length=max_length, trainable=False))\n",
    "    model.add(Masking(mask_value=0.0)) # masking layer, masks any words that don't have an embedding as 0s.\n",
    "    model.add(SimpleRNN(units=64, input_shape=(1, max_length)))\n",
    "    model.add(Dense(16))\n",
    "    model.add(Dense(labels.shape[1], activation='softmax'))\n",
    "    \n",
    "    # Compile the model\n",
    "    model.compile(\n",
    "    optimizer='adam', loss='categorical_crossentropy', metrics=['accuracy'])\n",
    "    # summarize the model\n",
    "    model.summary()\n",
    "    \n",
    "    if plot:\n",
    "        plot_model(model, to_file='model.png', show_shapes=True)\n",
    "    return model\n",
    "\n",
    "def make_classification_lstm_model(plot=False):\n",
    "    model = Sequential()\n",
    "    model.add(Embedding(VOCAB_SIZE, 100, weights=[embedding_matrix], input_length=max_length, trainable=False))\n",
    "    model.add(Masking(mask_value=0.0)) # masking layer, masks any words that don't have an embedding as 0s.\n",
    "    model.add(LSTM(units=32, input_shape=(1, max_length)))\n",
    "    model.add(Dense(16))\n",
    "    model.add(Dense(labels.shape[1], activation='softmax'))\n",
    "    \n",
    "    # Compile the model\n",
    "    model.compile(\n",
    "    optimizer='adam', loss='categorical_crossentropy', metrics=['accuracy'])\n",
    "    # summarize the model\n",
    "    model.summary()\n",
    "    \n",
    "    if plot:\n",
    "        plot_model(model, to_file='model.png', show_shapes=True)\n",
    "    return model\n",
    "\n",
    "def define_model():\n",
    "    \n",
    "    model = Sequential()\n",
    "    model.add(Embedding(VOCAB_SIZE, 100, weights=[embedding_matrix], input_length=max_length, trainable=False))\n",
    "    model.add(Masking(mask_value=0.0)) # masking layer, masks any words that don't have an embedding as 0s.\n",
    "    model.add(LSTM(64, return_sequences=True, dropout=0.2, recurrent_dropout=0.15, activation = 'relu'))\n",
    "    model.add(LSTM(64, return_sequences=False, dropout=0.2, recurrent_dropout=0.15, activation = 'relu'))\n",
    "    #model.add(Flatten())\n",
    "    model.add(Dense(16, activation = 'relu'))\n",
    "    model.add(Dense(labels.shape[1], activation='sigmoid'))\n",
    "    \n",
    "    # Compile the model\n",
    "    model.compile(\n",
    "    optimizer='adam', loss='binary_crossentropy', metrics=['accuracy'])\n",
    "    \n",
    "    return model"
   ]
  },
  {
   "cell_type": "markdown",
   "metadata": {},
   "source": [
    "### LSTM Model 1"
   ]
  },
  {
   "cell_type": "code",
   "execution_count": 132,
   "metadata": {
    "ExecuteTime": {
     "end_time": "2021-05-12T00:23:02.241306Z",
     "start_time": "2021-05-12T00:23:01.323673Z"
    }
   },
   "outputs": [
    {
     "name": "stdout",
     "output_type": "stream",
     "text": [
      "Model: \"sequential_9\"\n",
      "_________________________________________________________________\n",
      "Layer (type)                 Output Shape              Param #   \n",
      "=================================================================\n",
      "embedding_7 (Embedding)      (None, 428, 100)          4996000   \n",
      "_________________________________________________________________\n",
      "masking_7 (Masking)          (None, 428, 100)          0         \n",
      "_________________________________________________________________\n",
      "lstm_10 (LSTM)               (None, 32)                17024     \n",
      "_________________________________________________________________\n",
      "dense_12 (Dense)             (None, 16)                528       \n",
      "_________________________________________________________________\n",
      "dense_13 (Dense)             (None, 31)                527       \n",
      "=================================================================\n",
      "Total params: 5,014,079\n",
      "Trainable params: 18,079\n",
      "Non-trainable params: 4,996,000\n",
      "_________________________________________________________________\n"
     ]
    }
   ],
   "source": [
    "# Compile the model\n",
    "\n",
    "model_m = make_classification_lstm_model()"
   ]
  },
  {
   "cell_type": "markdown",
   "metadata": {},
   "source": [
    "#### Model Fitting and Evaluation"
   ]
  },
  {
   "cell_type": "code",
   "execution_count": 133,
   "metadata": {
    "ExecuteTime": {
     "end_time": "2021-05-12T00:57:46.137431Z",
     "start_time": "2021-05-12T00:32:34.545984Z"
    }
   },
   "outputs": [
    {
     "name": "stdout",
     "output_type": "stream",
     "text": [
      "Epoch 1/5\n",
      "1381/1381 [==============================] - 317s 226ms/step - loss: 2.1210 - accuracy: 0.4590 - val_loss: 0.9418 - val_accuracy: 0.7661\n",
      "Epoch 2/5\n",
      "1381/1381 [==============================] - 304s 220ms/step - loss: 0.8320 - accuracy: 0.7846 - val_loss: 0.6411 - val_accuracy: 0.8383\n",
      "Epoch 3/5\n",
      "1381/1381 [==============================] - 299s 216ms/step - loss: 0.5697 - accuracy: 0.8514 - val_loss: 0.5148 - val_accuracy: 0.8670\n",
      "Epoch 4/5\n",
      "1381/1381 [==============================] - 299s 217ms/step - loss: 0.4612 - accuracy: 0.8798 - val_loss: 0.4357 - val_accuracy: 0.8861\n",
      "Epoch 5/5\n",
      "1381/1381 [==============================] - 292s 212ms/step - loss: 0.3659 - accuracy: 0.9018 - val_loss: 0.3864 - val_accuracy: 0.8963\n"
     ]
    }
   ],
   "source": [
    "# Fit the model\n",
    "\n",
    "history = model_m.fit(X_train, y_train,validation_split = 0.1, epochs=5, verbose=1)"
   ]
  },
  {
   "cell_type": "code",
   "execution_count": 134,
   "metadata": {
    "ExecuteTime": {
     "end_time": "2021-05-12T01:06:56.139306Z",
     "start_time": "2021-05-12T01:06:29.218154Z"
    }
   },
   "outputs": [
    {
     "name": "stdout",
     "output_type": "stream",
     "text": [
      "384/384 [==============================] - 27s 70ms/step - loss: 0.3631 - accuracy: 0.9045\n",
      "Accuracy: 90.449023\n"
     ]
    }
   ],
   "source": [
    "loss, accuracy = model_m.evaluate(X_test, y_test, verbose=1)\n",
    "print('Accuracy: %f' % (accuracy*100))"
   ]
  },
  {
   "cell_type": "markdown",
   "metadata": {},
   "source": [
    "### LSTM Model 2"
   ]
  },
  {
   "cell_type": "code",
   "execution_count": 123,
   "metadata": {
    "ExecuteTime": {
     "end_time": "2021-05-11T12:47:55.156117Z",
     "start_time": "2021-05-11T12:47:54.064764Z"
    }
   },
   "outputs": [
    {
     "name": "stdout",
     "output_type": "stream",
     "text": [
      "Model: \"sequential_6\"\n",
      "_________________________________________________________________\n",
      "Layer (type)                 Output Shape              Param #   \n",
      "=================================================================\n",
      "embedding_4 (Embedding)      (None, 428, 100)          4996000   \n",
      "_________________________________________________________________\n",
      "masking_4 (Masking)          (None, 428, 100)          0         \n",
      "_________________________________________________________________\n",
      "lstm_6 (LSTM)                (None, 428, 64)           42240     \n",
      "_________________________________________________________________\n",
      "lstm_7 (LSTM)                (None, 64)                33024     \n",
      "_________________________________________________________________\n",
      "dense_6 (Dense)              (None, 16)                1040      \n",
      "_________________________________________________________________\n",
      "dense_7 (Dense)              (None, 31)                527       \n",
      "=================================================================\n",
      "Total params: 5,072,831\n",
      "Trainable params: 76,831\n",
      "Non-trainable params: 4,996,000\n",
      "_________________________________________________________________\n"
     ]
    }
   ],
   "source": [
    "\n",
    "model = define_model()\n",
    "model.summary()"
   ]
  },
  {
   "cell_type": "markdown",
   "metadata": {},
   "source": [
    "#### Model2 Fitting and Evaluation"
   ]
  },
  {
   "cell_type": "code",
   "execution_count": 124,
   "metadata": {
    "ExecuteTime": {
     "end_time": "2021-05-11T15:17:22.031544Z",
     "start_time": "2021-05-11T13:04:10.879893Z"
    }
   },
   "outputs": [
    {
     "name": "stdout",
     "output_type": "stream",
     "text": [
      "Epoch 1/5\n",
      "1381/1381 [==============================] - 1576s 1s/step - loss: 16326771841876.2754 - accuracy: 0.1790 - val_loss: 0.1786 - val_accuracy: 0.2622\n",
      "Epoch 2/5\n",
      "1381/1381 [==============================] - 1661s 1s/step - loss: 0.1446 - accuracy: 0.2782 - val_loss: 0.1261 - val_accuracy: 0.3082\n",
      "Epoch 3/5\n",
      "1381/1381 [==============================] - 1658s 1s/step - loss: 0.1226 - accuracy: 0.3406 - val_loss: 0.1212 - val_accuracy: 0.3270\n",
      "Epoch 4/5\n",
      "1381/1381 [==============================] - 1581s 1s/step - loss: 0.1185 - accuracy: 0.3503 - val_loss: 0.1180 - val_accuracy: 0.3559\n",
      "Epoch 5/5\n",
      "1381/1381 [==============================] - 1515s 1s/step - loss: 0.1158 - accuracy: 0.3557 - val_loss: 0.1168 - val_accuracy: 0.3663\n"
     ]
    }
   ],
   "source": [
    "history = model.fit(X_train, y_train,validation_split = 0.1, epochs=5, verbose=1)"
   ]
  },
  {
   "cell_type": "code",
   "execution_count": 125,
   "metadata": {
    "ExecuteTime": {
     "end_time": "2021-05-11T15:38:02.391268Z",
     "start_time": "2021-05-11T15:36:54.590733Z"
    }
   },
   "outputs": [
    {
     "name": "stdout",
     "output_type": "stream",
     "text": [
      "384/384 [==============================] - 68s 176ms/step - loss: 0.1198 - accuracy: 0.3547\n",
      "Accuracy: 35.473880\n"
     ]
    }
   ],
   "source": [
    "loss, accuracy = model.evaluate(X_test, y_test, verbose=1)\n",
    "print('Accuracy: %f' % (accuracy*100))"
   ]
  },
  {
   "cell_type": "code",
   "execution_count": null,
   "metadata": {},
   "outputs": [],
   "source": []
  },
  {
   "cell_type": "markdown",
   "metadata": {},
   "source": [
    "### RNN Model"
   ]
  },
  {
   "cell_type": "code",
   "execution_count": 130,
   "metadata": {
    "ExecuteTime": {
     "end_time": "2021-05-12T00:11:51.889332Z",
     "start_time": "2021-05-11T23:52:17.491176Z"
    }
   },
   "outputs": [
    {
     "name": "stdout",
     "output_type": "stream",
     "text": [
      "Model: \"sequential_8\"\n",
      "_________________________________________________________________\n",
      "Layer (type)                 Output Shape              Param #   \n",
      "=================================================================\n",
      "embedding_6 (Embedding)      (None, 428, 100)          4996000   \n",
      "_________________________________________________________________\n",
      "masking_6 (Masking)          (None, 428, 100)          0         \n",
      "_________________________________________________________________\n",
      "simple_rnn (SimpleRNN)       (None, 64)                10560     \n",
      "_________________________________________________________________\n",
      "dense_10 (Dense)             (None, 16)                1040      \n",
      "_________________________________________________________________\n",
      "dense_11 (Dense)             (None, 31)                527       \n",
      "=================================================================\n",
      "Total params: 5,008,127\n",
      "Trainable params: 12,127\n",
      "Non-trainable params: 4,996,000\n",
      "_________________________________________________________________\n",
      "Epoch 1/5\n",
      "1381/1381 [==============================] - 276s 198ms/step - loss: 2.1373 - accuracy: 0.4484 - val_loss: 1.1434 - val_accuracy: 0.6950\n",
      "Epoch 2/5\n",
      "1381/1381 [==============================] - 209s 151ms/step - loss: 1.1092 - accuracy: 0.7084 - val_loss: 0.9967 - val_accuracy: 0.7374\n",
      "Epoch 3/5\n",
      "1381/1381 [==============================] - 194s 141ms/step - loss: 0.9292 - accuracy: 0.7543 - val_loss: 0.8404 - val_accuracy: 0.7812\n",
      "Epoch 4/5\n",
      "1381/1381 [==============================] - 204s 148ms/step - loss: 0.8037 - accuracy: 0.7869 - val_loss: 0.8302 - val_accuracy: 0.7886\n",
      "Epoch 5/5\n",
      "1381/1381 [==============================] - 261s 189ms/step - loss: 0.7372 - accuracy: 0.8061 - val_loss: 0.7803 - val_accuracy: 0.7883\n",
      "384/384 [==============================] - 28s 73ms/step - loss: 0.7807 - accuracy: 0.7946\n",
      "Accuracy: 79.463774\n"
     ]
    }
   ],
   "source": [
    "model_cl = make_classification_rnn_model()\n",
    "history = model_cl.fit(X_train, y_train,validation_split = 0.1, epochs=5, verbose=1)\n",
    "loss, accuracy = model_cl.evaluate(X_test, y_test, verbose=1)\n",
    "print('Accuracy: %f' % (accuracy*100))\n"
   ]
  },
  {
   "cell_type": "markdown",
   "metadata": {},
   "source": [
    "## The first LSTM model has 0.90 accuracy, the second LSTM model has 0.35 accuracy, and the RNN model has 0.79 accuracy. Based on the performance of the three models, we decdided the first LSTM model as our final model. Since it has the highest accuracy"
   ]
  },
  {
   "cell_type": "code",
   "execution_count": null,
   "metadata": {},
   "outputs": [],
   "source": []
  },
  {
   "cell_type": "code",
   "execution_count": null,
   "metadata": {},
   "outputs": [],
   "source": []
  },
  {
   "cell_type": "code",
   "execution_count": null,
   "metadata": {},
   "outputs": [],
   "source": []
  },
  {
   "cell_type": "code",
   "execution_count": null,
   "metadata": {},
   "outputs": [],
   "source": []
  }
 ],
 "metadata": {
  "kernelspec": {
   "display_name": "Python 3",
   "language": "python",
   "name": "python3"
  },
  "language_info": {
   "codemirror_mode": {
    "name": "ipython",
    "version": 3
   },
   "file_extension": ".py",
   "mimetype": "text/x-python",
   "name": "python",
   "nbconvert_exporter": "python",
   "pygments_lexer": "ipython3",
   "version": "3.7.6"
  },
  "toc": {
   "base_numbering": 1,
   "nav_menu": {},
   "number_sections": true,
   "sideBar": true,
   "skip_h1_title": false,
   "title_cell": "Table of Contents",
   "title_sidebar": "Contents",
   "toc_cell": true,
   "toc_position": {},
   "toc_section_display": true,
   "toc_window_display": true
  },
  "varInspector": {
   "cols": {
    "lenName": 16,
    "lenType": 16,
    "lenVar": 40
   },
   "kernels_config": {
    "python": {
     "delete_cmd_postfix": "",
     "delete_cmd_prefix": "del ",
     "library": "var_list.py",
     "varRefreshCmd": "print(var_dic_list())"
    },
    "r": {
     "delete_cmd_postfix": ") ",
     "delete_cmd_prefix": "rm(",
     "library": "var_list.r",
     "varRefreshCmd": "cat(var_dic_list()) "
    }
   },
   "types_to_exclude": [
    "module",
    "function",
    "builtin_function_or_method",
    "instance",
    "_Feature"
   ],
   "window_display": false
  }
 },
 "nbformat": 4,
 "nbformat_minor": 4
}
