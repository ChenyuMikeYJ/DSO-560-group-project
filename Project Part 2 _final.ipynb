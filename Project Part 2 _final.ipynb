{
 "cells": [
  {
   "cell_type": "code",
   "execution_count": 2,
   "metadata": {},
   "outputs": [],
   "source": [
    "import pandas as pd\n",
    "import numpy as np\n",
    "import re\n",
    "import warnings\n",
    "import spacy\n",
    "from nltk.tokenize import word_tokenize\n",
    "from nltk.stem import WordNetLemmatizer\n",
    "from keras.preprocessing.text import Tokenizer\n",
    "from sklearn.feature_extraction.text import TfidfVectorizer\n",
    "from sklearn.feature_extraction.text import CountVectorizer\n",
    "from sklearn.metrics.pairwise import cosine_similarity\n",
    "from nltk.corpus import stopwords\n",
    "nltk_stopwords = set(stopwords.words('english'))\n",
    "warnings.filterwarnings('ignore')"
   ]
  },
  {
   "cell_type": "code",
   "execution_count": 3,
   "metadata": {},
   "outputs": [],
   "source": [
    "df = pd.read_csv('outfit_combinations USC.csv')"
   ]
  },
  {
   "cell_type": "code",
   "execution_count": 4,
   "metadata": {},
   "outputs": [
    {
     "data": {
      "text/html": [
       "<div>\n",
       "<style scoped>\n",
       "    .dataframe tbody tr th:only-of-type {\n",
       "        vertical-align: middle;\n",
       "    }\n",
       "\n",
       "    .dataframe tbody tr th {\n",
       "        vertical-align: top;\n",
       "    }\n",
       "\n",
       "    .dataframe thead th {\n",
       "        text-align: right;\n",
       "    }\n",
       "</style>\n",
       "<table border=\"1\" class=\"dataframe\">\n",
       "  <thead>\n",
       "    <tr style=\"text-align: right;\">\n",
       "      <th></th>\n",
       "      <th>outfit_id</th>\n",
       "      <th>product_id</th>\n",
       "      <th>outfit_item_type</th>\n",
       "      <th>brand</th>\n",
       "      <th>product_full_name</th>\n",
       "    </tr>\n",
       "  </thead>\n",
       "  <tbody>\n",
       "    <tr>\n",
       "      <th>0</th>\n",
       "      <td>01DDBHC62ES5K80P0KYJ56AM2T</td>\n",
       "      <td>01DMBRYVA2P5H24WK0HTK4R0A1</td>\n",
       "      <td>bottom</td>\n",
       "      <td>Eileen Fisher</td>\n",
       "      <td>Slim Knit Skirt</td>\n",
       "    </tr>\n",
       "    <tr>\n",
       "      <th>1</th>\n",
       "      <td>01DDBHC62ES5K80P0KYJ56AM2T</td>\n",
       "      <td>01DMBRYVA2PEPWFTT7RMP5AA1T</td>\n",
       "      <td>top</td>\n",
       "      <td>Eileen Fisher</td>\n",
       "      <td>Rib Mock Neck Tank</td>\n",
       "    </tr>\n",
       "    <tr>\n",
       "      <th>2</th>\n",
       "      <td>01DDBHC62ES5K80P0KYJ56AM2T</td>\n",
       "      <td>01DMBRYVA2S5T9W793F4CY41HE</td>\n",
       "      <td>accessory1</td>\n",
       "      <td>kate spade new york</td>\n",
       "      <td>medium margaux leather satchel</td>\n",
       "    </tr>\n",
       "    <tr>\n",
       "      <th>3</th>\n",
       "      <td>01DDBHC62ES5K80P0KYJ56AM2T</td>\n",
       "      <td>01DMBRYVA2ZFDYRYY5TRQZJTBD</td>\n",
       "      <td>shoe</td>\n",
       "      <td>Tory Burch</td>\n",
       "      <td>Penelope Mid Cap Toe Pump</td>\n",
       "    </tr>\n",
       "    <tr>\n",
       "      <th>4</th>\n",
       "      <td>01DMHCX50CFX5YNG99F3Y65GQW</td>\n",
       "      <td>01DMBRYVA2P5H24WK0HTK4R0A1</td>\n",
       "      <td>bottom</td>\n",
       "      <td>Eileen Fisher</td>\n",
       "      <td>Slim Knit Skirt</td>\n",
       "    </tr>\n",
       "  </tbody>\n",
       "</table>\n",
       "</div>"
      ],
      "text/plain": [
       "                    outfit_id                  product_id outfit_item_type  \\\n",
       "0  01DDBHC62ES5K80P0KYJ56AM2T  01DMBRYVA2P5H24WK0HTK4R0A1           bottom   \n",
       "1  01DDBHC62ES5K80P0KYJ56AM2T  01DMBRYVA2PEPWFTT7RMP5AA1T              top   \n",
       "2  01DDBHC62ES5K80P0KYJ56AM2T  01DMBRYVA2S5T9W793F4CY41HE       accessory1   \n",
       "3  01DDBHC62ES5K80P0KYJ56AM2T  01DMBRYVA2ZFDYRYY5TRQZJTBD             shoe   \n",
       "4  01DMHCX50CFX5YNG99F3Y65GQW  01DMBRYVA2P5H24WK0HTK4R0A1           bottom   \n",
       "\n",
       "                 brand               product_full_name  \n",
       "0        Eileen Fisher                 Slim Knit Skirt  \n",
       "1        Eileen Fisher              Rib Mock Neck Tank  \n",
       "2  kate spade new york  medium margaux leather satchel  \n",
       "3           Tory Burch       Penelope Mid Cap Toe Pump  \n",
       "4        Eileen Fisher                 Slim Knit Skirt  "
      ]
     },
     "execution_count": 4,
     "metadata": {},
     "output_type": "execute_result"
    }
   ],
   "source": [
    "df.head()"
   ]
  },
  {
   "cell_type": "code",
   "execution_count": 5,
   "metadata": {},
   "outputs": [
    {
     "name": "stdout",
     "output_type": "stream",
     "text": [
      "<class 'pandas.core.frame.DataFrame'>\n",
      "RangeIndex: 5291 entries, 0 to 5290\n",
      "Data columns (total 5 columns):\n",
      " #   Column             Non-Null Count  Dtype \n",
      "---  ------             --------------  ----- \n",
      " 0   outfit_id          5291 non-null   object\n",
      " 1   product_id         5291 non-null   object\n",
      " 2   outfit_item_type   5291 non-null   object\n",
      " 3   brand              5291 non-null   object\n",
      " 4   product_full_name  5291 non-null   object\n",
      "dtypes: object(5)\n",
      "memory usage: 206.8+ KB\n"
     ]
    }
   ],
   "source": [
    "df.info()"
   ]
  },
  {
   "cell_type": "code",
   "execution_count": 6,
   "metadata": {},
   "outputs": [
    {
     "data": {
      "text/plain": [
       "(5291, 5)"
      ]
     },
     "execution_count": 6,
     "metadata": {},
     "output_type": "execute_result"
    }
   ],
   "source": [
    "df.shape"
   ]
  },
  {
   "cell_type": "code",
   "execution_count": 7,
   "metadata": {},
   "outputs": [
    {
     "data": {
      "text/plain": [
       "1137"
      ]
     },
     "execution_count": 7,
     "metadata": {},
     "output_type": "execute_result"
    }
   ],
   "source": [
    "df.outfit_id.nunique()"
   ]
  },
  {
   "cell_type": "code",
   "execution_count": 8,
   "metadata": {
    "scrolled": true
   },
   "outputs": [
    {
     "data": {
      "text/plain": [
       "shoe          1149\n",
       "accessory1    1064\n",
       "accessory2     978\n",
       "top            950\n",
       "bottom         928\n",
       "onepiece       221\n",
       "accessory3       1\n",
       "Name: outfit_item_type, dtype: int64"
      ]
     },
     "execution_count": 8,
     "metadata": {},
     "output_type": "execute_result"
    }
   ],
   "source": [
    "df['outfit_item_type'].value_counts()"
   ]
  },
  {
   "cell_type": "code",
   "execution_count": 9,
   "metadata": {},
   "outputs": [
    {
     "data": {
      "text/html": [
       "<div>\n",
       "<style scoped>\n",
       "    .dataframe tbody tr th:only-of-type {\n",
       "        vertical-align: middle;\n",
       "    }\n",
       "\n",
       "    .dataframe tbody tr th {\n",
       "        vertical-align: top;\n",
       "    }\n",
       "\n",
       "    .dataframe thead th {\n",
       "        text-align: right;\n",
       "    }\n",
       "</style>\n",
       "<table border=\"1\" class=\"dataframe\">\n",
       "  <thead>\n",
       "    <tr style=\"text-align: right;\">\n",
       "      <th></th>\n",
       "      <th>outfit_id</th>\n",
       "      <th>product_id</th>\n",
       "      <th>outfit_item_type</th>\n",
       "      <th>brand</th>\n",
       "      <th>product_full_name</th>\n",
       "    </tr>\n",
       "  </thead>\n",
       "  <tbody>\n",
       "    <tr>\n",
       "      <th>0</th>\n",
       "      <td>01DDBHC62ES5K80P0KYJ56AM2T</td>\n",
       "      <td>01DMBRYVA2P5H24WK0HTK4R0A1</td>\n",
       "      <td>bottom</td>\n",
       "      <td>Eileen Fisher</td>\n",
       "      <td>Slim Knit Skirt</td>\n",
       "    </tr>\n",
       "    <tr>\n",
       "      <th>1</th>\n",
       "      <td>01DDBHC62ES5K80P0KYJ56AM2T</td>\n",
       "      <td>01DMBRYVA2PEPWFTT7RMP5AA1T</td>\n",
       "      <td>top</td>\n",
       "      <td>Eileen Fisher</td>\n",
       "      <td>Rib Mock Neck Tank</td>\n",
       "    </tr>\n",
       "    <tr>\n",
       "      <th>2</th>\n",
       "      <td>01DDBHC62ES5K80P0KYJ56AM2T</td>\n",
       "      <td>01DMBRYVA2S5T9W793F4CY41HE</td>\n",
       "      <td>accessory1</td>\n",
       "      <td>kate spade new york</td>\n",
       "      <td>medium margaux leather satchel</td>\n",
       "    </tr>\n",
       "    <tr>\n",
       "      <th>3</th>\n",
       "      <td>01DDBHC62ES5K80P0KYJ56AM2T</td>\n",
       "      <td>01DMBRYVA2ZFDYRYY5TRQZJTBD</td>\n",
       "      <td>shoe</td>\n",
       "      <td>Tory Burch</td>\n",
       "      <td>Penelope Mid Cap Toe Pump</td>\n",
       "    </tr>\n",
       "    <tr>\n",
       "      <th>4</th>\n",
       "      <td>01DMHCX50CFX5YNG99F3Y65GQW</td>\n",
       "      <td>01DMBRYVA2P5H24WK0HTK4R0A1</td>\n",
       "      <td>bottom</td>\n",
       "      <td>Eileen Fisher</td>\n",
       "      <td>Slim Knit Skirt</td>\n",
       "    </tr>\n",
       "  </tbody>\n",
       "</table>\n",
       "</div>"
      ],
      "text/plain": [
       "                    outfit_id                  product_id outfit_item_type  \\\n",
       "0  01DDBHC62ES5K80P0KYJ56AM2T  01DMBRYVA2P5H24WK0HTK4R0A1           bottom   \n",
       "1  01DDBHC62ES5K80P0KYJ56AM2T  01DMBRYVA2PEPWFTT7RMP5AA1T              top   \n",
       "2  01DDBHC62ES5K80P0KYJ56AM2T  01DMBRYVA2S5T9W793F4CY41HE       accessory1   \n",
       "3  01DDBHC62ES5K80P0KYJ56AM2T  01DMBRYVA2ZFDYRYY5TRQZJTBD             shoe   \n",
       "4  01DMHCX50CFX5YNG99F3Y65GQW  01DMBRYVA2P5H24WK0HTK4R0A1           bottom   \n",
       "\n",
       "                 brand               product_full_name  \n",
       "0        Eileen Fisher                 Slim Knit Skirt  \n",
       "1        Eileen Fisher              Rib Mock Neck Tank  \n",
       "2  kate spade new york  medium margaux leather satchel  \n",
       "3           Tory Burch       Penelope Mid Cap Toe Pump  \n",
       "4        Eileen Fisher                 Slim Knit Skirt  "
      ]
     },
     "execution_count": 9,
     "metadata": {},
     "output_type": "execute_result"
    }
   ],
   "source": [
    "df.head()"
   ]
  },
  {
   "cell_type": "code",
   "execution_count": 10,
   "metadata": {},
   "outputs": [],
   "source": [
    "df['product_full_name'] = df['product_full_name'].str.lower()"
   ]
  },
  {
   "cell_type": "code",
   "execution_count": 11,
   "metadata": {},
   "outputs": [],
   "source": [
    "bottom_list = []\n",
    "bottom = df[df['outfit_item_type'] == 'bottom'].reset_index()\n",
    "for i in bottom['product_full_name'].str.extract(r'\\b(\\w+)\\W*$')[0]:\n",
    "    if i not in bottom_list:\n",
    "        bottom_list.append(i)"
   ]
  },
  {
   "cell_type": "code",
   "execution_count": 12,
   "metadata": {},
   "outputs": [],
   "source": [
    "check = []\n",
    "for i in range(len(bottom)):\n",
    "    if len(re.findall(r\"wrap\", bottom['product_full_name'][i], flags=re.IGNORECASE)) >= 1:\n",
    "        check.append(bottom['product_full_name'][i])"
   ]
  },
  {
   "cell_type": "code",
   "execution_count": 13,
   "metadata": {},
   "outputs": [],
   "source": [
    "bottom = r'\\b(skirt|pant|jean|dress|cargo|leg|crop|trouser|tights|skinny|slim|shorts)'"
   ]
  },
  {
   "cell_type": "code",
   "execution_count": 14,
   "metadata": {},
   "outputs": [],
   "source": [
    "top_list = []\n",
    "top = df[df['outfit_item_type'] == 'top'].reset_index()\n",
    "for i in top['product_full_name'].str.extract(r'\\b(\\w+)\\W*$')[0]:\n",
    "    if i not in top_list:\n",
    "        top_list.append(i)"
   ]
  },
  {
   "cell_type": "code",
   "execution_count": 15,
   "metadata": {},
   "outputs": [],
   "source": [
    "top = r'\\b(tank|blouse|top|sweater|shirt|tee|yarn|popover|camisole|turtleneck|hoodie|sweatshirt|neckline|bra|pullover)'"
   ]
  },
  {
   "cell_type": "code",
   "execution_count": 16,
   "metadata": {},
   "outputs": [],
   "source": [
    "shoe_list = []\n",
    "shoe = df[df['outfit_item_type'] == 'shoe'].reset_index()\n",
    "for i in shoe['product_full_name'].str.extract(r'\\b(\\w+)\\W*$')[0]:\n",
    "    if i not in shoe_list:\n",
    "        shoe_list.append(i)"
   ]
  },
  {
   "cell_type": "code",
   "execution_count": 17,
   "metadata": {},
   "outputs": [],
   "source": [
    "shoe = r\"\\b(shoe|boot|flat|heel|sneaker|sandal|loafer|espadrille|oxford|moccasin|monkstrap|mule|slide|slingback|buckle)\""
   ]
  },
  {
   "cell_type": "code",
   "execution_count": 18,
   "metadata": {},
   "outputs": [],
   "source": [
    "onepiece_list = []\n",
    "onepiece = df[df['outfit_item_type'] == 'onepiece'].reset_index()\n",
    "for i in onepiece['product_full_name'].str.extract(r'\\b(\\w+)\\W*$')[0]:\n",
    "    if i not in onepiece_list:\n",
    "        onepiece_list.append(i)\n"
   ]
  },
  {
   "cell_type": "code",
   "execution_count": 19,
   "metadata": {},
   "outputs": [],
   "source": [
    "onepiece = r\"\\b(one piece|one-piece|all-in-one|onepiece|jumpsuit|playsuit|bodysuit|overall|shirtdress|minidress)\""
   ]
  },
  {
   "cell_type": "code",
   "execution_count": 20,
   "metadata": {},
   "outputs": [
    {
     "data": {
      "text/plain": [
       "['satchel',\n",
       " 'clutch',\n",
       " 'bag',\n",
       " 'jacket',\n",
       " 'sweater',\n",
       " 'trench',\n",
       " 'tote',\n",
       " 'coat',\n",
       " 'cardigan',\n",
       " 'noir',\n",
       " 'scarf',\n",
       " 'topcoat',\n",
       " 'mini',\n",
       " 'shirt',\n",
       " 'blazer',\n",
       " 'shawl',\n",
       " 'cashmere',\n",
       " 'briefcase',\n",
       " 'leather',\n",
       " 'backpack',\n",
       " 'mules',\n",
       " 'name',\n",
       " 'hoodie',\n",
       " 'pullover',\n",
       " 'bra',\n",
       " 'camisole',\n",
       " 'tee',\n",
       " 'vest',\n",
       " 'silk',\n",
       " 'top',\n",
       " 'chain',\n",
       " 'pouch',\n",
       " 'wrap',\n",
       " 'shopper',\n",
       " 'buckle',\n",
       " 'sweatshirt',\n",
       " 'sunglasses']"
      ]
     },
     "execution_count": 20,
     "metadata": {},
     "output_type": "execute_result"
    }
   ],
   "source": [
    "acce_list = []\n",
    "acce = df[(df['outfit_item_type'] == 'accessory1') | (df['outfit_item_type'] == 'accessory2')].reset_index()\n",
    "for i in acce['product_full_name'].str.extract(r'\\b(\\w+)\\W*$')[0]:\n",
    "    if i not in acce_list:\n",
    "        acce_list.append(i)\n",
    "acce_list"
   ]
  },
  {
   "cell_type": "code",
   "execution_count": 21,
   "metadata": {},
   "outputs": [],
   "source": [
    "accesory = r\"\\b(jacket|cardigan|coat|topcoat|satchel|clutch|bag|trench|tote|scarf|noir|blazer|shawl|briefcase|backpack|camisole|vest|chain|pouch|shopper|sunglasses|glasses)\""
   ]
  },
  {
   "cell_type": "code",
   "execution_count": 58,
   "metadata": {},
   "outputs": [],
   "source": [
    "data = pd.read_excel('Behold+product+data+04262021.xlsx')"
   ]
  },
  {
   "cell_type": "code",
   "execution_count": 59,
   "metadata": {},
   "outputs": [
    {
     "data": {
      "text/html": [
       "<div>\n",
       "<style scoped>\n",
       "    .dataframe tbody tr th:only-of-type {\n",
       "        vertical-align: middle;\n",
       "    }\n",
       "\n",
       "    .dataframe tbody tr th {\n",
       "        vertical-align: top;\n",
       "    }\n",
       "\n",
       "    .dataframe thead th {\n",
       "        text-align: right;\n",
       "    }\n",
       "</style>\n",
       "<table border=\"1\" class=\"dataframe\">\n",
       "  <thead>\n",
       "    <tr style=\"text-align: right;\">\n",
       "      <th></th>\n",
       "      <th>product_id</th>\n",
       "      <th>brand</th>\n",
       "      <th>brand_category</th>\n",
       "      <th>name</th>\n",
       "      <th>details</th>\n",
       "      <th>created_at</th>\n",
       "      <th>brand_canonical_url</th>\n",
       "      <th>description</th>\n",
       "      <th>brand_description</th>\n",
       "      <th>brand_name</th>\n",
       "      <th>product_active</th>\n",
       "    </tr>\n",
       "  </thead>\n",
       "  <tbody>\n",
       "    <tr>\n",
       "      <th>0</th>\n",
       "      <td>01EX0PN4J9WRNZH5F93YEX6QAF</td>\n",
       "      <td>Two</td>\n",
       "      <td>Unknown</td>\n",
       "      <td>Khadi Stripe Shirt-our signature shirt</td>\n",
       "      <td>NaN</td>\n",
       "      <td>2021-01-27 01:17:19.305 UTC</td>\n",
       "      <td>https://two-nyc.myshopify.com/products/white-k...</td>\n",
       "      <td>Our signature khadi shirt\\navailable in black ...</td>\n",
       "      <td>Our signature khadi shirt\\n\\navailable in blac...</td>\n",
       "      <td>Khadi Stripe Shirt-our signature shirt</td>\n",
       "      <td>True</td>\n",
       "    </tr>\n",
       "    <tr>\n",
       "      <th>1</th>\n",
       "      <td>01F0C4SKZV6YXS3265JMC39NXW</td>\n",
       "      <td>Collina Strada</td>\n",
       "      <td>Unknown</td>\n",
       "      <td>RUFFLE MARKET DRESS LOOPY PINK SISTINE TOMATO</td>\n",
       "      <td>NaN</td>\n",
       "      <td>2021-03-09 18:43:10.457 UTC</td>\n",
       "      <td>https://collina-strada-2.myshopify.com/product...</td>\n",
       "      <td>Mid-length dress with ruffles and adjustable s...</td>\n",
       "      <td>Mid-length dress with ruffles and adjustable s...</td>\n",
       "      <td>RUFFLE MARKET DRESS LOOPY PINK SISTINE TOMATO</td>\n",
       "      <td>True</td>\n",
       "    </tr>\n",
       "  </tbody>\n",
       "</table>\n",
       "</div>"
      ],
      "text/plain": [
       "                   product_id           brand brand_category  \\\n",
       "0  01EX0PN4J9WRNZH5F93YEX6QAF             Two        Unknown   \n",
       "1  01F0C4SKZV6YXS3265JMC39NXW  Collina Strada        Unknown   \n",
       "\n",
       "                                            name details  \\\n",
       "0         Khadi Stripe Shirt-our signature shirt     NaN   \n",
       "1  RUFFLE MARKET DRESS LOOPY PINK SISTINE TOMATO     NaN   \n",
       "\n",
       "                    created_at  \\\n",
       "0  2021-01-27 01:17:19.305 UTC   \n",
       "1  2021-03-09 18:43:10.457 UTC   \n",
       "\n",
       "                                 brand_canonical_url  \\\n",
       "0  https://two-nyc.myshopify.com/products/white-k...   \n",
       "1  https://collina-strada-2.myshopify.com/product...   \n",
       "\n",
       "                                         description  \\\n",
       "0  Our signature khadi shirt\\navailable in black ...   \n",
       "1  Mid-length dress with ruffles and adjustable s...   \n",
       "\n",
       "                                   brand_description  \\\n",
       "0  Our signature khadi shirt\\n\\navailable in blac...   \n",
       "1  Mid-length dress with ruffles and adjustable s...   \n",
       "\n",
       "                                      brand_name  product_active  \n",
       "0         Khadi Stripe Shirt-our signature shirt            True  \n",
       "1  RUFFLE MARKET DRESS LOOPY PINK SISTINE TOMATO            True  "
      ]
     },
     "execution_count": 59,
     "metadata": {},
     "output_type": "execute_result"
    }
   ],
   "source": [
    "data.head(2)"
   ]
  },
  {
   "cell_type": "code",
   "execution_count": 60,
   "metadata": {},
   "outputs": [],
   "source": [
    "columns = ['brand_category', 'details', 'name', 'description']\n",
    "\n",
    "# change text to lower case\n",
    "for col in columns:\n",
    "    data[col] = data[col].str.lower()"
   ]
  },
  {
   "cell_type": "code",
   "execution_count": 61,
   "metadata": {},
   "outputs": [],
   "source": [
    "data['description'] = data['description'].str.replace(\"\\n\", \" \")\n",
    "data['details'] = data['details'].str.replace(\"\\n\", \" \")\n",
    "data['brand_category'] = data['details'].str.replace(\"\\n\", \" \")\n",
    "data['name'] = data['name'].str.replace(\"\\n\", \" \")"
   ]
  },
  {
   "cell_type": "code",
   "execution_count": 62,
   "metadata": {},
   "outputs": [],
   "source": [
    "# Create functions used in preprocessing\n",
    "def remove_punctuations(text):\n",
    "    for punctuation in '!%\"#$&\\'()*+,-./:;<=>?@[\\\\]^_`{|}~':\n",
    "        text = text.replace(punctuation, '')\n",
    "    return text\n",
    "def remove_stopwords(text):\n",
    "    words = text.split(\" \")\n",
    "    temp = []\n",
    "    for word in words:\n",
    "        if word in nltk_stopwords:\n",
    "            continue\n",
    "        temp.append(word)\n",
    "    cleaned = \" \".join(temp)\n",
    "    return cleaned\n",
    "def lemmatize(text):\n",
    "    lemmatizer = WordNetLemmatizer()\n",
    "    words = text.split(\" \")\n",
    "    temp = []\n",
    "    for word in words:\n",
    "        res = lemmatizer.lemmatize(word)\n",
    "        temp.append(res)\n",
    "    cleaned = \" \".join(temp)\n",
    "    return cleaned\n",
    "def more_preprocess(text):\n",
    "    result = re.sub(r'—', ' ', text)\n",
    "    result = re.sub(r'•', ' ', result)\n",
    "    result = re.sub(r'\\s+', ' ', result)\n",
    "    result = re.sub(r'\\b[A-Z]?pattern[A-Z]?\\b', '', result)\n",
    "    return result"
   ]
  },
  {
   "cell_type": "code",
   "execution_count": 63,
   "metadata": {},
   "outputs": [],
   "source": [
    "data['description'] = data['description'].fillna('Unknown')\n",
    "data['name'] = data['name'].fillna('Unknown')\n",
    "data['brand_category'] = data['brand_category'].fillna('Unknown')\n",
    "data['details'] = data['details'].fillna('Unknown')"
   ]
  },
  {
   "cell_type": "code",
   "execution_count": 64,
   "metadata": {},
   "outputs": [],
   "source": [
    "data['description'] = data['description'].apply(remove_punctuations)\n",
    "data['description'] = data['description'].apply(more_preprocess)\n",
    "data['name'] = data['name'].apply(remove_punctuations)\n",
    "data['name'] = data['name'].apply(more_preprocess)\n",
    "data['brand_category'] = data['brand_category'].apply(remove_punctuations)\n",
    "data['brand_category'] = data['brand_category'].apply(more_preprocess)\n",
    "data['details'] = data['details'].apply(remove_punctuations)\n",
    "data['details'] = data['details'].apply(more_preprocess)"
   ]
  },
  {
   "cell_type": "code",
   "execution_count": 65,
   "metadata": {},
   "outputs": [],
   "source": [
    "# Create the category variable\n",
    "data['category'] = 'Unknown'"
   ]
  },
  {
   "cell_type": "code",
   "execution_count": 66,
   "metadata": {},
   "outputs": [],
   "source": [
    "def get_category(column):\n",
    "    for i in range(len(data)):\n",
    "        if data['category'][i] == 'Unknown':\n",
    "            if len(re.findall(r\"(skirt|pant|jean|dress|cargo|leg|crop|trouser|tights|skinny|slim|short|highwaist|denim|wash|saratoga)\", data[column][i], flags=re.IGNORECASE)) >= 1:\n",
    "                data['category'][i] = 'bottom'\n",
    "            elif len(re.findall(r\"(shoe|boot|flat|heel|sneaker|sandal|loafer|espadrille|oxford|moccasin|monkstrap|mule|slide|slingback|buckle|feet|sole)\", data[column][i], flags=re.IGNORECASE)) >= 1:\n",
    "                data['category'][i] = 'shoe'\n",
    "            elif len(re.findall(r\"(accesories|jewelry|accesory|jewelries|jacket|cardigan|coat|topcoat|satchel|clutch|bag|hat|trench|tote|scarf|noir|blazer|shawl|wallet|card|briefcase|backpack|camisole|vest|chain|pouch|shopper|sunglasses|glasses|band|fedora|catchall|cap|beret|mask|face|tunic|earring(?:s)|necklace|bracelet|band)\", data[column][i], flags=re.IGNORECASE)) >= 1:\n",
    "                data['category'][i] = 'accesory'\n",
    "            elif len(re.findall(r'(tank|blouse|top|sweater|shirt|tee|cardigan|yarn|popover|camisole|turtleneck|hoodie|sweat|neckline|bra|pullover|sleeve|neck|cape)', data[column][i], flags=re.IGNORECASE)) >= 1:\n",
    "                data['category'][i] = 'top'\n",
    "            elif len(re.findall(r\"(one piece|one-piece|all-in-one|onepiece|jumpsuit|playsuit|bodysuit|overall|shirtdress|minidress|robe|caftan)\", data[column][i], flags=re.IGNORECASE)) >= 1:\n",
    "                data['category'][i] = 'onepiece'"
   ]
  },
  {
   "cell_type": "code",
   "execution_count": 67,
   "metadata": {},
   "outputs": [],
   "source": [
    "get_category('description')"
   ]
  },
  {
   "cell_type": "code",
   "execution_count": 68,
   "metadata": {},
   "outputs": [
    {
     "data": {
      "text/plain": [
       "bottom      28734\n",
       "Unknown     13100\n",
       "accesory     8532\n",
       "top          5568\n",
       "shoe         5244\n",
       "onepiece      177\n",
       "Name: category, dtype: int64"
      ]
     },
     "execution_count": 68,
     "metadata": {},
     "output_type": "execute_result"
    }
   ],
   "source": [
    "data['category'].value_counts()"
   ]
  },
  {
   "cell_type": "code",
   "execution_count": 69,
   "metadata": {},
   "outputs": [],
   "source": [
    "get_category('name')"
   ]
  },
  {
   "cell_type": "code",
   "execution_count": 70,
   "metadata": {},
   "outputs": [
    {
     "data": {
      "text/plain": [
       "bottom      32340\n",
       "accesory     9352\n",
       "top          7097\n",
       "Unknown      6667\n",
       "shoe         5591\n",
       "onepiece      308\n",
       "Name: category, dtype: int64"
      ]
     },
     "execution_count": 70,
     "metadata": {},
     "output_type": "execute_result"
    }
   ],
   "source": [
    "data['category'].value_counts()"
   ]
  },
  {
   "cell_type": "code",
   "execution_count": 71,
   "metadata": {},
   "outputs": [],
   "source": [
    "get_category('details')"
   ]
  },
  {
   "cell_type": "code",
   "execution_count": 72,
   "metadata": {},
   "outputs": [
    {
     "data": {
      "text/plain": [
       "bottom      33424\n",
       "accesory     9377\n",
       "top          7168\n",
       "shoe         5616\n",
       "Unknown      5462\n",
       "onepiece      308\n",
       "Name: category, dtype: int64"
      ]
     },
     "execution_count": 72,
     "metadata": {},
     "output_type": "execute_result"
    }
   ],
   "source": [
    "data['category'].value_counts()"
   ]
  },
  {
   "cell_type": "code",
   "execution_count": 73,
   "metadata": {},
   "outputs": [],
   "source": [
    "get_category('brand_category')"
   ]
  },
  {
   "cell_type": "code",
   "execution_count": 74,
   "metadata": {},
   "outputs": [
    {
     "data": {
      "text/plain": [
       "bottom      33424\n",
       "accesory     9377\n",
       "top          7168\n",
       "shoe         5616\n",
       "Unknown      5462\n",
       "onepiece      308\n",
       "Name: category, dtype: int64"
      ]
     },
     "execution_count": 74,
     "metadata": {},
     "output_type": "execute_result"
    }
   ],
   "source": [
    "data['category'].value_counts()"
   ]
  },
  {
   "cell_type": "code",
   "execution_count": 75,
   "metadata": {},
   "outputs": [],
   "source": [
    "def get_other(x):\n",
    "    try:\n",
    "        x = re.sub('Unknown', 'Other',x)\n",
    "        return x\n",
    "    except:\n",
    "        return x"
   ]
  },
  {
   "cell_type": "code",
   "execution_count": 76,
   "metadata": {},
   "outputs": [],
   "source": [
    "data['category'] = data['category'].apply(get_other)"
   ]
  },
  {
   "cell_type": "code",
   "execution_count": 77,
   "metadata": {},
   "outputs": [
    {
     "data": {
      "text/plain": [
       "bottom      33424\n",
       "accesory     9377\n",
       "top          7168\n",
       "shoe         5616\n",
       "Other        5462\n",
       "onepiece      308\n",
       "Name: category, dtype: int64"
      ]
     },
     "execution_count": 77,
     "metadata": {},
     "output_type": "execute_result"
    }
   ],
   "source": [
    "data['category'].value_counts()"
   ]
  },
  {
   "cell_type": "code",
   "execution_count": 78,
   "metadata": {},
   "outputs": [],
   "source": [
    "data['description'] = data['description'].apply(remove_stopwords)\n",
    "data['description'] = data['description'].apply(lemmatize)\n",
    "data['name'] = data['name'].apply(remove_stopwords)\n",
    "data['name'] = data['name'].apply(lemmatize)\n",
    "data['brand_category'] = data['brand_category'].apply(remove_stopwords)\n",
    "data['brand_category'] = data['brand_category'].apply(lemmatize)\n",
    "data['details'] = data['details'].apply(remove_stopwords)\n",
    "data['details'] = data['details'].apply(lemmatize)"
   ]
  },
  {
   "cell_type": "code",
   "execution_count": 79,
   "metadata": {},
   "outputs": [],
   "source": [
    "data.brand=[str(a) for a in data.brand]\n",
    "data['text'] = (data['brand'] + ' ' + data['brand_category']+' ' + data['name']+ ' ' + data['details'] + ' ' + data['category'] + ' ' + data['description']).apply(str)"
   ]
  },
  {
   "cell_type": "code",
   "execution_count": 80,
   "metadata": {},
   "outputs": [],
   "source": [
    "def recommendation(query):\n",
    "    query = remove_punctuations(query)\n",
    "    query = remove_stopwords(query)\n",
    "    query = more_preprocess(query)\n",
    "    query = lemmatize(query)\n",
    "    \n",
    "    query=[query]\n",
    "    X = list(data['text'].values)\n",
    "    vectorizer = TfidfVectorizer(min_df=3, max_df=0.9) \n",
    "    \n",
    "    X = vectorizer.fit_transform(X)\n",
    "    query = vectorizer.transform(query)\n",
    "    tfidf_df = pd.DataFrame(X.toarray(), columns=vectorizer.get_feature_names())\n",
    "    tfidf_query = pd.DataFrame(query.toarray(), columns=vectorizer.get_feature_names())                         \n",
    "\n",
    "    data['similarity'] = cosine_similarity(tfidf_df, tfidf_query)\n",
    "    idx = data.groupby(['category'])['similarity'].transform(max)  == data['similarity']\n",
    "    similar = data[idx]\n",
    "    temp = [i for i in similar['product_id']]\n",
    "    \n",
    "    return_list = ['top','bottom','shoe','accesory','onepiece']\n",
    "    return_dict = {}\n",
    "    for cat in return_list:\n",
    "        return_dict[cat] = similar.loc[data['category'] == cat].reset_index().name[0].title()\n",
    "        return_dict[cat] += ' '+'('+similar.loc[data['category'] == cat].reset_index().product_id[0]+')'\n",
    "    result = ''\n",
    "    for item in return_list:\n",
    "        result += item + ': ' + return_dict[item] + '\\n'\n",
    "    output_type = 0\n",
    "    \n",
    "    similar = similar.sort_values(by = 'similarity', ascending = False)\n",
    "    \n",
    "    for pro_id in similar['product_id']:\n",
    "        if df['product_id'].str.contains(pro_id).sum() >= 1:\n",
    "            output_type = 1\n",
    "            outfit = df[df['product_id'] == pro_id].outfit_id[0]\n",
    "            outfit_all = df[df['outfit_id'] == outfit]\n",
    "            new_return_list = [i for i in outfit_all['outfit_item_type']]\n",
    "            new_return_dict = {}\n",
    "            for cat in return_list:\n",
    "                new_return_dict[cat] = outfit_all.loc[outfit_all['outfit_item_type'] == cat, 'product_full_name'].item().title()\n",
    "                new_return_dict[cat] += ' '+'('+outfit_all.loc[outfit_all['outfit_item_type'] == cat, 'product_id'].item()+')'\n",
    "            new_result = ''\n",
    "            for item in new_return_list:\n",
    "                result += item + ': ' + new_return_dict[item] + '\\n'\n",
    "\n",
    "    if output_type == 0:\n",
    "        print(result)\n",
    "    else:\n",
    "        print(new_result)\n",
    "    "
   ]
  },
  {
   "cell_type": "code",
   "execution_count": 81,
   "metadata": {},
   "outputs": [
    {
     "name": "stdout",
     "output_type": "stream",
     "text": [
      "top: Satin Vneck Tie Top (01EHAYBHVC24EHHRV9WYVPY8TK)\n",
      "bottom: Pandora Sweater New Arrival (01EZ7H2QFAY6WNHPSCVGFCTEVZ)\n",
      "shoe: Willow Iii Mustard Satin (01E96FFWR4MKEDDDBWN3RVW3Z7)\n",
      "accesory: Small Satin Clutch (01EP5T1EVBZMVX3RYGF2D5DCG2)\n",
      "onepiece: Satin Button Jump Suit (01EMPJK353KB6PYHKNY3982JK0)\n",
      "\n"
     ]
    }
   ],
   "source": [
    "recommendation('Black Satin Pandora Dress')"
   ]
  },
  {
   "cell_type": "code",
   "execution_count": 82,
   "metadata": {},
   "outputs": [
    {
     "name": "stdout",
     "output_type": "stream",
     "text": [
      "top: Dilay Crochet Pullover (01EC39Z55G7PJRSFNMFJFSNTP6)\n",
      "bottom: Crochet Cardigan Mauve (01EYJZ74HT0AC9JQZ8ZRYGBKGY)\n",
      "shoe: Archive Sale Minimalist Loafer Offwhite Calf Size 37 (01EVHC7KQQ5E1XVP4ET9D0S1M4)\n",
      "accesory: Crochet Cardigan Mustard (01ENTC62495Y55ZB68SR5ZK21C)\n",
      "onepiece: Priya Romper (01EFDA5EF5NY5PJRS8Z1BESN2D)\n",
      "\n"
     ]
    }
   ],
   "source": [
    "recommendation('Off-White Linen Openwork Crochet Stitch Cardigan')"
   ]
  },
  {
   "cell_type": "code",
   "execution_count": 83,
   "metadata": {},
   "outputs": [
    {
     "name": "stdout",
     "output_type": "stream",
     "text": [
      "top: White Andy Button Mandarin Collar Shirt White Cotton (01EC8MB8A17N6J9A0BJMVXN95G)\n",
      "bottom: White Sheer Dhaka White Embroidery (01ETV33P5G00JHHFR9KDJ1B45X)\n",
      "shoe: White Lambskin (01ESS0TPGAHRGWWVJRNC3CHQFM)\n",
      "accesory: White Leather Foldover Tote (01EHB2QAN8DR16WFQ2JXXZBQB9)\n",
      "onepiece: White Jamdani Caftan1 Left (01ETV335QGZKT81KEX4NDB4WAX)\n",
      "\n"
     ]
    }
   ],
   "source": [
    "recommendation('White Leather Church Boots')"
   ]
  },
  {
   "cell_type": "code",
   "execution_count": null,
   "metadata": {},
   "outputs": [],
   "source": []
  },
  {
   "cell_type": "code",
   "execution_count": null,
   "metadata": {},
   "outputs": [],
   "source": []
  }
 ],
 "metadata": {
  "kernelspec": {
   "display_name": "Python 3",
   "language": "python",
   "name": "python3"
  },
  "language_info": {
   "codemirror_mode": {
    "name": "ipython",
    "version": 3
   },
   "file_extension": ".py",
   "mimetype": "text/x-python",
   "name": "python",
   "nbconvert_exporter": "python",
   "pygments_lexer": "ipython3",
   "version": "3.8.3"
  },
  "varInspector": {
   "cols": {
    "lenName": 16,
    "lenType": 16,
    "lenVar": 40
   },
   "kernels_config": {
    "python": {
     "delete_cmd_postfix": "",
     "delete_cmd_prefix": "del ",
     "library": "var_list.py",
     "varRefreshCmd": "print(var_dic_list())"
    },
    "r": {
     "delete_cmd_postfix": ") ",
     "delete_cmd_prefix": "rm(",
     "library": "var_list.r",
     "varRefreshCmd": "cat(var_dic_list()) "
    }
   },
   "types_to_exclude": [
    "module",
    "function",
    "builtin_function_or_method",
    "instance",
    "_Feature"
   ],
   "window_display": false
  }
 },
 "nbformat": 4,
 "nbformat_minor": 4
}
